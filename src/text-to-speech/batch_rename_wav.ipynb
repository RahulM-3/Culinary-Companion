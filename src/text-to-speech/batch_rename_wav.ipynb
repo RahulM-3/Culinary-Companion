{
 "cells": [
  {
   "cell_type": "code",
   "execution_count": 1,
   "id": "ca9e532a-7ddc-44db-89ce-29190bb6b496",
   "metadata": {},
   "outputs": [
    {
     "name": "stdout",
     "output_type": "stream",
     "text": [
      "Folder path: ./samples/wav\n",
      "All files in the folder: ['1.wav', '10.wav', '11.wav', '12.wav', '13.wav', '14.wav', '15.wav', '16.wav', '17.wav', '18.wav', '19.wav', '20.wav', '4.wav', '5.wav', '6.wav', '7.wav', '8.wav', '9.wav', 'list.txt']\n",
      "Wave files found: 18\n",
      "Renamed ./samples/wav/1.wav to ./samples/wav/1.wav\n",
      "Renamed ./samples/wav/10.wav to ./samples/wav/2.wav\n",
      "Renamed ./samples/wav/11.wav to ./samples/wav/3.wav\n",
      "Renamed ./samples/wav/12.wav to ./samples/wav/4.wav\n",
      "Renamed ./samples/wav/13.wav to ./samples/wav/5.wav\n",
      "Renamed ./samples/wav/14.wav to ./samples/wav/6.wav\n",
      "Renamed ./samples/wav/15.wav to ./samples/wav/7.wav\n",
      "Renamed ./samples/wav/16.wav to ./samples/wav/8.wav\n",
      "Renamed ./samples/wav/17.wav to ./samples/wav/9.wav\n",
      "Renamed ./samples/wav/18.wav to ./samples/wav/10.wav\n",
      "Renamed ./samples/wav/19.wav to ./samples/wav/11.wav\n",
      "Renamed ./samples/wav/20.wav to ./samples/wav/12.wav\n",
      "Renamed ./samples/wav/4.wav to ./samples/wav/13.wav\n",
      "Renamed ./samples/wav/5.wav to ./samples/wav/14.wav\n",
      "Renamed ./samples/wav/6.wav to ./samples/wav/15.wav\n",
      "Renamed ./samples/wav/7.wav to ./samples/wav/16.wav\n",
      "Renamed ./samples/wav/8.wav to ./samples/wav/17.wav\n",
      "Renamed ./samples/wav/9.wav to ./samples/wav/18.wav\n",
      "Wave files renamed successfully!\n"
     ]
    }
   ],
   "source": [
    "import os\n",
    "\n",
    "def rename_wave_files(folder_path):\n",
    "    files = os.listdir(folder_path)\n",
    "    wav_files = [f for f in files if f.lower().endswith('.wav')]\n",
    "\n",
    "    print(f'Folder path: {folder_path}')\n",
    "    print(f'All files in the folder: {files}')\n",
    "    print(f'Wave files found: {len(wav_files)}')\n",
    "\n",
    "    for index, wav_file in enumerate(wav_files, start=1):\n",
    "        old_path = os.path.join(folder_path, wav_file)\n",
    "        new_path = os.path.join(folder_path, f'{index}.wav')\n",
    "        os.rename(old_path, new_path)\n",
    "        print(f'Renamed {old_path} to {new_path}')\n",
    "\n",
    "\n",
    "if __name__ == \"__main__\":\n",
    "    folder_path = r'./samples/wav'  # Change this to your wav file folder\n",
    "    rename_wave_files(folder_path)\n",
    "    print(\"Wave files renamed successfully!\")"
   ]
  },
  {
   "cell_type": "code",
   "execution_count": null,
   "id": "cc05ef11-fb52-4e22-bce7-424b12ccd50f",
   "metadata": {},
   "outputs": [],
   "source": []
  }
 ],
 "metadata": {
  "kernelspec": {
   "display_name": "Python 3 (ipykernel)",
   "language": "python",
   "name": "python3"
  },
  "language_info": {
   "codemirror_mode": {
    "name": "ipython",
    "version": 3
   },
   "file_extension": ".py",
   "mimetype": "text/x-python",
   "name": "python",
   "nbconvert_exporter": "python",
   "pygments_lexer": "ipython3",
   "version": "3.10.12"
  }
 },
 "nbformat": 4,
 "nbformat_minor": 5
}
