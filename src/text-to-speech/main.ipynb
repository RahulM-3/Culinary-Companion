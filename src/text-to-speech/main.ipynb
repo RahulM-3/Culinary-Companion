{
 "cells": [
  {
   "cell_type": "code",
   "execution_count": 17,
   "id": "ee4b7e50-d0eb-46f1-9166-b76ea3dfa608",
   "metadata": {},
   "outputs": [
    {
     "name": "stdout",
     "output_type": "stream",
     "text": [
      "\n",
      "Sorry, File could not be played!\n"
     ]
    },
    {
     "name": "stderr",
     "output_type": "stream",
     "text": [
      "usage: ipykernel_launcher.py [-h] [-e ENC_MODEL_FPATH] [-s SYN_MODEL_FPATH]\n",
      "                             [-v VOC_MODEL_FPATH]\n",
      "ipykernel_launcher.py: error: unrecognized arguments: -f /home/rahul/.local/share/jupyter/runtime/kernel-795736cf-595f-4fe7-b9b5-44967e49737d.json\n"
     ]
    },
    {
     "ename": "SystemExit",
     "evalue": "2",
     "output_type": "error",
     "traceback": [
      "An exception has occurred, use %tb to see the full traceback.\n",
      "\u001b[0;31mSystemExit\u001b[0m\u001b[0;31m:\u001b[0m 2\n"
     ]
    }
   ],
   "source": [
    "# load all the functions\n",
    "from voice_cloning.generation import *\n",
    "\n",
    "# provide a reference sound file, speech text and clone the voice\n",
    "sound_path = \"1.mpeg\" # support most of the sound formats\n",
    "speech_text = \"Please use this package carefully\"\n",
    "play_sound(sound_path)\n",
    "generated_wav = speech_generator(\n",
    "    voice_type = \"western\", # supports \"indian\" & \"western\"\n",
    "    sound_path = sound_path, \n",
    "    speech_text =  speech_text\n",
    "    )\n",
    "## Play and save the sound with noise-reduction capabilities\n",
    "\n",
    "# play the generated sound\n",
    "play_sound(generated_wav)\n",
    "\n",
    "# save the file\n",
    "save_sound(generated_wav, filename=\"voice output\", noise_reduction=True) # enable noise reduction"
   ]
  },
  {
   "cell_type": "code",
   "execution_count": null,
   "id": "89f47e79-7147-4bac-a5d6-c9b2412b4b9e",
   "metadata": {},
   "outputs": [],
   "source": []
  }
 ],
 "metadata": {
  "kernelspec": {
   "display_name": "Python 3 (ipykernel)",
   "language": "python",
   "name": "python3"
  },
  "language_info": {
   "codemirror_mode": {
    "name": "ipython",
    "version": 3
   },
   "file_extension": ".py",
   "mimetype": "text/x-python",
   "name": "python",
   "nbconvert_exporter": "python",
   "pygments_lexer": "ipython3",
   "version": "3.10.12"
  }
 },
 "nbformat": 4,
 "nbformat_minor": 5
}
