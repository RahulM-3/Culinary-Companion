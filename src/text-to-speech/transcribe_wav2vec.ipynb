{
 "cells": [
  {
   "cell_type": "code",
   "execution_count": 2,
   "id": "5d4f5450-e49f-4429-9229-9afc860764f1",
   "metadata": {},
   "outputs": [],
   "source": [
    "import os\n",
    "import torch\n",
    "import torchaudio\n",
    "from transformers import Wav2Vec2ForCTC, Wav2Vec2Processor"
   ]
  },
  {
   "cell_type": "code",
   "execution_count": 3,
   "id": "ba7ed654-583f-47cc-86db-fa4c9b425d46",
   "metadata": {},
   "outputs": [],
   "source": [
    "wav_directory = \"./samples/wav\"\n",
    "output_file = os.path.join(wav_directory, \"list.txt\")\n",
    "wav_files_range = range(1, 21)\n",
    "file_and_transcripts = []"
   ]
  },
  {
   "cell_type": "code",
   "execution_count": 4,
   "id": "c4fc6f90-9772-45f8-826a-f8b60696220b",
   "metadata": {},
   "outputs": [
    {
     "name": "stderr",
     "output_type": "stream",
     "text": [
      "/home/rahul/.local/lib/python3.10/site-packages/transformers/modeling_utils.py:392: FutureWarning: You are using `torch.load` with `weights_only=False` (the current default value), which uses the default pickle module implicitly. It is possible to construct malicious pickle data which will execute arbitrary code during unpickling (See https://github.com/pytorch/pytorch/blob/main/SECURITY.md#untrusted-models for more details). In a future release, the default value for `weights_only` will be flipped to `True`. This limits the functions that could be executed during unpickling. Arbitrary objects will no longer be allowed to be loaded via this mode unless they are explicitly allowlisted by the user via `torch.serialization.add_safe_globals`. We recommend you start setting `weights_only=True` for any use case where you don't have full control of the loaded file. Please open an issue on GitHub for any issues related to this experimental feature.\n",
      "  return torch.load(checkpoint_file, map_location=\"cpu\")\n",
      "/home/rahul/.local/lib/python3.10/site-packages/torch/nn/utils/weight_norm.py:134: FutureWarning: `torch.nn.utils.weight_norm` is deprecated in favor of `torch.nn.utils.parametrizations.weight_norm`.\n",
      "  WeightNorm.apply(module, name, dim)\n",
      "Some weights of Wav2Vec2ForCTC were not initialized from the model checkpoint at facebook/wav2vec2-large-960h and are newly initialized: ['wav2vec2.masked_spec_embed']\n",
      "You should probably TRAIN this model on a down-stream task to be able to use it for predictions and inference.\n"
     ]
    }
   ],
   "source": [
    "model = Wav2Vec2ForCTC.from_pretrained(\"facebook/wav2vec2-large-960h\")\n",
    "model = model.to('cuda')\n",
    "processor = Wav2Vec2Processor.from_pretrained(\"facebook/wav2vec2-large-960h\")"
   ]
  },
  {
   "cell_type": "code",
   "execution_count": 5,
   "id": "7354e12c-bc96-4278-97e2-a58bbc6908c5",
   "metadata": {},
   "outputs": [
    {
     "name": "stdout",
     "output_type": "stream",
     "text": [
      "processing ./samples/wav/1.wav\n"
     ]
    },
    {
     "name": "stderr",
     "output_type": "stream",
     "text": [
      "2024-08-28 21:40:13.934429: I tensorflow/core/util/port.cc:153] oneDNN custom operations are on. You may see slightly different numerical results due to floating-point round-off errors from different computation orders. To turn them off, set the environment variable `TF_ENABLE_ONEDNN_OPTS=0`.\n",
      "2024-08-28 21:40:14.018049: E external/local_xla/xla/stream_executor/cuda/cuda_fft.cc:485] Unable to register cuFFT factory: Attempting to register factory for plugin cuFFT when one has already been registered\n",
      "2024-08-28 21:40:14.031632: E external/local_xla/xla/stream_executor/cuda/cuda_dnn.cc:8454] Unable to register cuDNN factory: Attempting to register factory for plugin cuDNN when one has already been registered\n",
      "2024-08-28 21:40:14.034701: E external/local_xla/xla/stream_executor/cuda/cuda_blas.cc:1452] Unable to register cuBLAS factory: Attempting to register factory for plugin cuBLAS when one has already been registered\n",
      "2024-08-28 21:40:14.070729: I tensorflow/core/platform/cpu_feature_guard.cc:210] This TensorFlow binary is optimized to use available CPU instructions in performance-critical operations.\n",
      "To enable the following instructions: AVX2 AVX_VNNI FMA, in other operations, rebuild TensorFlow with the appropriate compiler flags.\n",
      "2024-08-28 21:40:14.766854: W tensorflow/compiler/tf2tensorrt/utils/py_utils.cc:38] TF-TRT Warning: Could not find TensorRT\n"
     ]
    },
    {
     "name": "stdout",
     "output_type": "stream",
     "text": [
      "torch.Size([1, 2, 190172])\n",
      "torch.Size([2, 190172])\n",
      "WE DE VASSELS SOR TOS WO GO IT GROMA TO PONACARILE YARK NOLOTTA CAPANTAI NO LAMANEVI NO LUCQUORA NIGGLE NOLA NUMBER GICONGLO AMON DOWN MEAN APONACARA IN CALAMIRKI\n",
      "-----------------------------------------------------------\n",
      "processing ./samples/wav/2.wav\n",
      "torch.Size([1, 2, 57261])\n",
      "torch.Size([2, 57261])\n",
      "A ABSENUR THAT TAPOSO IN TAT NIAPERUNG MANICIN\n",
      "-----------------------------------------------------------\n",
      "processing ./samples/wav/3.wav\n",
      "torch.Size([1, 2, 168856])\n",
      "torch.Size([2, 168856])\n",
      "KANNA AP PUNNING A THA CUTAMARO THING GO THINGALA THOUORO\n",
      "-----------------------------------------------------------\n",
      "processing ./samples/wav/4.wav\n",
      "torch.Size([1, 2, 175125])\n",
      "torch.Size([2, 175125])\n",
      "YEM PARTING IN VILLI SINDICAL SHUVENIN A WER OLLIN THE POITICKER GET THE HON BEKLE CUTTINGER ON BEKILTA NA SOLDO DEUN FAVER SOL LATO DEUN FAVER\n",
      "-----------------------------------------------------------\n",
      "processing ./samples/wav/5.wav\n",
      "torch.Size([1, 2, 448889])\n",
      "torch.Size([2, 448889])\n",
      "YA ORL PAIN TE UNPONUCU WHILE YOU PIT T THE EPETA MODEL CADELA AN GO WA UPE OM WI COMMATANE YOU'RE UP PAT HE AIR OF TELAY YOR PIPODOTIC ALEMPERIN DACUDA AND THE MODEL CADELA ND WE LIVED IN TETE COMPODY HAD THE AND OM MU A MADY N GO WA OL PUT UK WIT TE TELOCU AND THE POLIN O MC CITACY AN GUSTON TOS A NON I MUSTN'T DUSH YOU AN WENTE PEPLE WEN NI SEY GON O OF THE CADETA LON WE'LL BE TO PUTY IIVEN DERE CAR\n",
      "-----------------------------------------------------------\n",
      "processing ./samples/wav/6.wav\n",
      "torch.Size([1, 2, 237401])\n",
      "torch.Size([2, 237401])\n",
      "E ONEIS ALRI NA LOTEGICO NA LOGENAN DO ON SOTIPO Y ORDER MARTA TE TO MREGON TO IN EACROPOA AN NATEO TOROA AH\n",
      "-----------------------------------------------------------\n",
      "processing ./samples/wav/7.wav\n",
      "torch.Size([1, 2, 104490])\n",
      "torch.Size([2, 104490])\n",
      "UMLAN LITA MODDICRAMANDA AMBLE AMLITTTEMODDICROWIDOT POBE\n",
      "-----------------------------------------------------------\n",
      "processing ./samples/wav/8.wav\n",
      "torch.Size([1, 2, 118701])\n",
      "torch.Size([2, 118701])\n",
      "FON DE CALURON BECALUM PORNA PURACARIAN ROMO PORTICAMAXALE GET TO PAIAS SATAWA\n",
      "-----------------------------------------------------------\n",
      "processing ./samples/wav/9.wav\n",
      "torch.Size([1, 2, 90280])\n",
      "torch.Size([2, 90280])\n",
      "O NO SOMEBODY GIT THE GUIDE O WILLI GIDE O POLILIRY I HE KIN U PUNNY DEBONRT O FILOPON PORPOTY\n",
      "-----------------------------------------------------------\n",
      "processing ./samples/wav/10.wav\n",
      "torch.Size([1, 2, 98221])\n",
      "torch.Size([2, 98221])\n",
      "YO LAMAY PUDY YO LAMAVATION YO LAMIN MARDILA\n",
      "-----------------------------------------------------------\n",
      "processing ./samples/wav/11.wav\n",
      "torch.Size([1, 2, 71889])\n",
      "torch.Size([2, 71889])\n",
      "PULINGA PETOA MAVELA AN A PETONLY INDICAMIN PULING LA MARACAMATANG\n",
      "-----------------------------------------------------------\n",
      "processing ./samples/wav/12.wav\n",
      "torch.Size([1, 2, 115775])\n",
      "torch.Size([2, 115775])\n",
      "YENO COK I LOOK OT A MOTHERINGE MO KAGADE HOW DIDN'T ANYBODY KANGE IN WAY BORAGE AN ODERINGE BY\n",
      "-----------------------------------------------------------\n",
      "processing ./samples/wav/13.wav\n",
      "torch.Size([1, 2, 148376])\n",
      "torch.Size([2, 148376])\n",
      "BUT IS THE ASE ON MAY EAR MAYADAR SE A SA MAYYE BENNUPO NUMA NI LA MAYA LA CHAIA CHAA MAYA MAYA CHIA\n",
      "-----------------------------------------------------------\n",
      "processing ./samples/wav/14.wav\n",
      "torch.Size([1, 2, 160497])\n",
      "torch.Size([2, 160497])\n",
      "CARDELICAR MICOMODE PETROMOE MORADE RIVE CARLICOMMO UMILIAM MADERIG CALIANA TE COPROR CARDELE MODEDADDI\n",
      "-----------------------------------------------------------\n",
      "processing ./samples/wav/15.wav\n",
      "torch.Size([1, 2, 184738])\n",
      "torch.Size([2, 184738])\n",
      "ARE YO MISTER MOLOCHOALAMBLEN MISTER MOLOCHOPEREGAR POCOSOTONDACURALA OL SILDI CASQURATOLA METAM WOLLIP PALO WULLETCZ YOUNG GALSOLPUT ONE ONDA YA OUN MIAN UMBLE NAMBLE\n",
      "-----------------------------------------------------------\n",
      "processing ./samples/wav/16.wav\n",
      "torch.Size([1, 2, 115775])\n",
      "torch.Size([2, 115775])\n",
      "ANGER IS THE CAUSE OF ALL MISERIES ONE SHOULDKNOW HOW TO CONTROL IT OTHERWISE LIFE WILL BECOME MISERABLE TRY TO UNDERSTAND THAT L\n",
      "-----------------------------------------------------------\n",
      "processing ./samples/wav/17.wav\n",
      "torch.Size([1, 2, 145450])\n",
      "torch.Size([2, 145450])\n",
      "VABALI DO L E AAD EN N EN EA EN MNE AN\n",
      "-----------------------------------------------------------\n",
      "processing ./samples/wav/18.wav\n",
      "torch.Size([1, 2, 168438])\n",
      "torch.Size([2, 168438])\n",
      "VERIANA SEND TATAPOGDA MANIPE ERINDIA SEND TA TAPOCA MANI PERCARIAD AND GENUA VIRODI VENMONA MOANI CHILOVENA COOLED AWAY OTO PULIPORI CLABROGIA MANICAVE MATE\n",
      "-----------------------------------------------------------\n",
      "processing ./samples/wav/19.wav\n",
      "torch.Size([1, 2, 175543])\n",
      "torch.Size([2, 175543])\n",
      "TOLD WE DOV OWORD O MUNCH WORHE AVIT YO COM MODLBUNNY I DO BETDID YOU GO LOOK AT THE OSOME DOS AT YEL SOM O MI THRO AN OLD MAN UMONNACER BORRY WOTAT N DOLLO YORO BE ARA AN DOLLA LO O LOOK I SO IM WOT E DO NOT GO AWAY OR BUYO\n",
      "-----------------------------------------------------------\n",
      "processing ./samples/wav/20.wav\n",
      "torch.Size([1, 2, 113685])\n",
      "torch.Size([2, 113685])\n",
      "LAST BUT NOT LEAST I DIGAMASTER PORAOMLI NOA DICAMACOPOPORAPOMLUNA LAVANDERA SARITRMECARIAT\n",
      "-----------------------------------------------------------\n",
      "File './samples/wav/list.txt' created successfully.\n"
     ]
    }
   ],
   "source": [
    "for i in wav_files_range:\n",
    "    wav_file = os.path.join(wav_directory, f\"{i}.wav\")\n",
    "\n",
    "    if os.path.exists(wav_file):\n",
    "        try:\n",
    "            print(f\"processing {wav_file}\")\n",
    "            waveform, sample_rate = torchaudio.load(wav_file)\n",
    "            waveform = waveform.squeeze()  # Squeeze the batch dimension\n",
    "            resampler = torchaudio.transforms.Resample(\n",
    "                orig_freq=sample_rate, new_freq=16000)\n",
    "            waveform = resampler(waveform)\n",
    "            input_values = processor(\n",
    "                waveform, return_tensors=\"pt\", sampling_rate=16000).input_values\n",
    "            print(input_values.shape)\n",
    "            input_values = torch.reshape(input_values, (2, input_values.shape[-1])).to(\"cuda\")\n",
    "            print(input_values.shape)\n",
    "            logits = model(input_values).logits\n",
    "            predicted_ids = torch.argmax(logits, dim=-1)\n",
    "            transcript = processor.decode(predicted_ids[0])\n",
    "        except FileNotFoundError:\n",
    "            print(f\"File not found: {wav_file}\")\n",
    "            continue\n",
    "\n",
    "        # Append the desired path format and transcript to the list\n",
    "        print(transcript)\n",
    "        print(\"-----------------------------------------------------------\")\n",
    "        file_and_transcripts.append(\n",
    "            f\"/content/TTS-TT2/wavs/{i}.wav|{transcript}\")\n",
    "    else:\n",
    "        print(f\"File not found: {wav_file}\")\n",
    "\n",
    "# Write the file paths and transcripts to the output file\n",
    "with open(output_file, \"w\") as f:\n",
    "    for line in file_and_transcripts:\n",
    "        f.write(f\"{line}\\n\")\n",
    "\n",
    "print(f\"File '{output_file}' created successfully.\")"
   ]
  },
  {
   "cell_type": "code",
   "execution_count": null,
   "id": "3fca7878-86bd-4e34-bb8c-58c91bed8ed9",
   "metadata": {},
   "outputs": [],
   "source": []
  }
 ],
 "metadata": {
  "kernelspec": {
   "display_name": "Python 3 (ipykernel)",
   "language": "python",
   "name": "python3"
  },
  "language_info": {
   "codemirror_mode": {
    "name": "ipython",
    "version": 3
   },
   "file_extension": ".py",
   "mimetype": "text/x-python",
   "name": "python",
   "nbconvert_exporter": "python",
   "pygments_lexer": "ipython3",
   "version": "3.10.12"
  }
 },
 "nbformat": 4,
 "nbformat_minor": 5
}
