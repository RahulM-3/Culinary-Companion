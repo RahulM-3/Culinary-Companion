{
 "cells": [
  {
   "cell_type": "code",
   "execution_count": 1,
   "metadata": {
    "papermill": {
     "duration": 2.805404,
     "end_time": "2024-07-23T18:51:57.950072",
     "exception": false,
     "start_time": "2024-07-23T18:51:55.144668",
     "status": "completed"
    },
    "tags": []
   },
   "outputs": [],
   "source": [
    "import pandas as pd\n",
    "import os\n",
    "import numpy as np\n",
    "import matplotlib.pyplot as plt\n",
    "\n",
    "from sklearn.feature_extraction.text import TfidfVectorizer\n",
    "from sklearn.preprocessing import StandardScaler\n",
    "from sklearn.metrics.pairwise import cosine_similarity\n",
    "from sklearn.pipeline import make_pipeline\n",
    "from sklearn.compose import ColumnTransformer\n",
    "from sklearn.impute import SimpleImputer\n",
    "from sklearn.preprocessing import FunctionTransformer"
   ]
  },
  {
   "cell_type": "markdown",
   "metadata": {},
   "source": [
    "## Datasets"
   ]
  },
  {
   "cell_type": "code",
   "execution_count": 6,
   "metadata": {
    "papermill": {
     "duration": 0.044778,
     "end_time": "2024-07-23T18:51:58.043456",
     "exception": false,
     "start_time": "2024-07-23T18:51:57.998678",
     "status": "completed"
    },
    "tags": []
   },
   "outputs": [
    {
     "name": "stdout",
     "output_type": "stream",
     "text": [
      "./dataset\\ingr_map.pkl\n",
      "./dataset\\interactions_test.csv\n",
      "./dataset\\interactions_train.csv\n",
      "./dataset\\interactions_validation.csv\n",
      "./dataset\\PP_recipes.csv\n",
      "./dataset\\PP_users.csv\n",
      "./dataset\\RAW_interactions.csv\n",
      "./dataset\\RAW_recipes.csv\n"
     ]
    }
   ],
   "source": [
    "for dirname, _, filenames in os.walk('./dataset'):\n",
    "    for filename in filenames:\n",
    "        print(os.path.join(dirname, filename))"
   ]
  },
  {
   "cell_type": "code",
   "execution_count": 15,
   "metadata": {},
   "outputs": [],
   "source": [
    "input_path = \"./dataset/\""
   ]
  },
  {
   "cell_type": "markdown",
   "metadata": {
    "papermill": {
     "duration": 0.016216,
     "end_time": "2024-07-23T18:51:58.155245",
     "exception": false,
     "start_time": "2024-07-23T18:51:58.139029",
     "status": "completed"
    },
    "tags": []
   },
   "source": [
    "## RAW_INTERACTIONS.csv"
   ]
  },
  {
   "cell_type": "code",
   "execution_count": 16,
   "metadata": {
    "papermill": {
     "duration": 9.982205,
     "end_time": "2024-07-23T18:52:08.18625",
     "exception": false,
     "start_time": "2024-07-23T18:51:58.204045",
     "status": "completed"
    },
    "tags": []
   },
   "outputs": [],
   "source": [
    "df_raw_interactions = pd.read_csv(input_path + \"RAW_interactions.csv\")"
   ]
  },
  {
   "cell_type": "code",
   "execution_count": 17,
   "metadata": {
    "papermill": {
     "duration": 0.049664,
     "end_time": "2024-07-23T18:52:08.252801",
     "exception": false,
     "start_time": "2024-07-23T18:52:08.203137",
     "status": "completed"
    },
    "tags": []
   },
   "outputs": [
    {
     "data": {
      "text/html": [
       "<div>\n",
       "<style scoped>\n",
       "    .dataframe tbody tr th:only-of-type {\n",
       "        vertical-align: middle;\n",
       "    }\n",
       "\n",
       "    .dataframe tbody tr th {\n",
       "        vertical-align: top;\n",
       "    }\n",
       "\n",
       "    .dataframe thead th {\n",
       "        text-align: right;\n",
       "    }\n",
       "</style>\n",
       "<table border=\"1\" class=\"dataframe\">\n",
       "  <thead>\n",
       "    <tr style=\"text-align: right;\">\n",
       "      <th></th>\n",
       "      <th>user_id</th>\n",
       "      <th>recipe_id</th>\n",
       "      <th>date</th>\n",
       "      <th>rating</th>\n",
       "      <th>review</th>\n",
       "    </tr>\n",
       "  </thead>\n",
       "  <tbody>\n",
       "    <tr>\n",
       "      <th>0</th>\n",
       "      <td>38094</td>\n",
       "      <td>40893</td>\n",
       "      <td>2003-02-17</td>\n",
       "      <td>4</td>\n",
       "      <td>Great with a salad. Cooked on top of stove for...</td>\n",
       "    </tr>\n",
       "    <tr>\n",
       "      <th>1</th>\n",
       "      <td>1293707</td>\n",
       "      <td>40893</td>\n",
       "      <td>2011-12-21</td>\n",
       "      <td>5</td>\n",
       "      <td>So simple, so delicious! Great for chilly fall...</td>\n",
       "    </tr>\n",
       "    <tr>\n",
       "      <th>2</th>\n",
       "      <td>8937</td>\n",
       "      <td>44394</td>\n",
       "      <td>2002-12-01</td>\n",
       "      <td>4</td>\n",
       "      <td>This worked very well and is EASY.  I used not...</td>\n",
       "    </tr>\n",
       "    <tr>\n",
       "      <th>3</th>\n",
       "      <td>126440</td>\n",
       "      <td>85009</td>\n",
       "      <td>2010-02-27</td>\n",
       "      <td>5</td>\n",
       "      <td>I made the Mexican topping and took it to bunk...</td>\n",
       "    </tr>\n",
       "    <tr>\n",
       "      <th>4</th>\n",
       "      <td>57222</td>\n",
       "      <td>85009</td>\n",
       "      <td>2011-10-01</td>\n",
       "      <td>5</td>\n",
       "      <td>Made the cheddar bacon topping, adding a sprin...</td>\n",
       "    </tr>\n",
       "  </tbody>\n",
       "</table>\n",
       "</div>"
      ],
      "text/plain": [
       "   user_id  recipe_id        date  rating  \\\n",
       "0    38094      40893  2003-02-17       4   \n",
       "1  1293707      40893  2011-12-21       5   \n",
       "2     8937      44394  2002-12-01       4   \n",
       "3   126440      85009  2010-02-27       5   \n",
       "4    57222      85009  2011-10-01       5   \n",
       "\n",
       "                                              review  \n",
       "0  Great with a salad. Cooked on top of stove for...  \n",
       "1  So simple, so delicious! Great for chilly fall...  \n",
       "2  This worked very well and is EASY.  I used not...  \n",
       "3  I made the Mexican topping and took it to bunk...  \n",
       "4  Made the cheddar bacon topping, adding a sprin...  "
      ]
     },
     "execution_count": 17,
     "metadata": {},
     "output_type": "execute_result"
    }
   ],
   "source": [
    "df_raw_interactions.head()"
   ]
  },
  {
   "cell_type": "markdown",
   "metadata": {
    "papermill": {
     "duration": 0.018493,
     "end_time": "2024-07-23T18:52:08.288142",
     "exception": false,
     "start_time": "2024-07-23T18:52:08.269649",
     "status": "completed"
    },
    "tags": []
   },
   "source": [
    "We see that the file RAW_interactions.csv contains information about the ratings of recipes by users of the Food.com platform. The evaluation is given both in numerical form (through the rating column) and in writing (through the review column)."
   ]
  },
  {
   "cell_type": "markdown",
   "metadata": {
    "papermill": {
     "duration": 0.016406,
     "end_time": "2024-07-23T18:52:08.32186",
     "exception": false,
     "start_time": "2024-07-23T18:52:08.305454",
     "status": "completed"
    },
    "tags": []
   },
   "source": [
    "## RAW_recipes.csv"
   ]
  },
  {
   "cell_type": "code",
   "execution_count": 18,
   "metadata": {
    "papermill": {
     "duration": 8.115096,
     "end_time": "2024-07-23T18:52:16.488372",
     "exception": false,
     "start_time": "2024-07-23T18:52:08.373276",
     "status": "completed"
    },
    "tags": []
   },
   "outputs": [],
   "source": [
    "df_raw_recipes = pd.read_csv(input_path + \"RAW_recipes.csv\")"
   ]
  },
  {
   "cell_type": "code",
   "execution_count": 19,
   "metadata": {
    "papermill": {
     "duration": 0.038739,
     "end_time": "2024-07-23T18:52:16.544087",
     "exception": false,
     "start_time": "2024-07-23T18:52:16.505348",
     "status": "completed"
    },
    "tags": []
   },
   "outputs": [
    {
     "data": {
      "text/html": [
       "<div>\n",
       "<style scoped>\n",
       "    .dataframe tbody tr th:only-of-type {\n",
       "        vertical-align: middle;\n",
       "    }\n",
       "\n",
       "    .dataframe tbody tr th {\n",
       "        vertical-align: top;\n",
       "    }\n",
       "\n",
       "    .dataframe thead th {\n",
       "        text-align: right;\n",
       "    }\n",
       "</style>\n",
       "<table border=\"1\" class=\"dataframe\">\n",
       "  <thead>\n",
       "    <tr style=\"text-align: right;\">\n",
       "      <th></th>\n",
       "      <th>name</th>\n",
       "      <th>id</th>\n",
       "      <th>minutes</th>\n",
       "      <th>contributor_id</th>\n",
       "      <th>submitted</th>\n",
       "      <th>tags</th>\n",
       "      <th>nutrition</th>\n",
       "      <th>n_steps</th>\n",
       "      <th>steps</th>\n",
       "      <th>description</th>\n",
       "      <th>ingredients</th>\n",
       "      <th>n_ingredients</th>\n",
       "    </tr>\n",
       "  </thead>\n",
       "  <tbody>\n",
       "    <tr>\n",
       "      <th>0</th>\n",
       "      <td>arriba   baked winter squash mexican style</td>\n",
       "      <td>137739</td>\n",
       "      <td>55</td>\n",
       "      <td>47892</td>\n",
       "      <td>2005-09-16</td>\n",
       "      <td>['60-minutes-or-less', 'time-to-make', 'course...</td>\n",
       "      <td>[51.5, 0.0, 13.0, 0.0, 2.0, 0.0, 4.0]</td>\n",
       "      <td>11</td>\n",
       "      <td>['make a choice and proceed with recipe', 'dep...</td>\n",
       "      <td>autumn is my favorite time of year to cook! th...</td>\n",
       "      <td>['winter squash', 'mexican seasoning', 'mixed ...</td>\n",
       "      <td>7</td>\n",
       "    </tr>\n",
       "    <tr>\n",
       "      <th>1</th>\n",
       "      <td>a bit different  breakfast pizza</td>\n",
       "      <td>31490</td>\n",
       "      <td>30</td>\n",
       "      <td>26278</td>\n",
       "      <td>2002-06-17</td>\n",
       "      <td>['30-minutes-or-less', 'time-to-make', 'course...</td>\n",
       "      <td>[173.4, 18.0, 0.0, 17.0, 22.0, 35.0, 1.0]</td>\n",
       "      <td>9</td>\n",
       "      <td>['preheat oven to 425 degrees f', 'press dough...</td>\n",
       "      <td>this recipe calls for the crust to be prebaked...</td>\n",
       "      <td>['prepared pizza crust', 'sausage patty', 'egg...</td>\n",
       "      <td>6</td>\n",
       "    </tr>\n",
       "    <tr>\n",
       "      <th>2</th>\n",
       "      <td>all in the kitchen  chili</td>\n",
       "      <td>112140</td>\n",
       "      <td>130</td>\n",
       "      <td>196586</td>\n",
       "      <td>2005-02-25</td>\n",
       "      <td>['time-to-make', 'course', 'preparation', 'mai...</td>\n",
       "      <td>[269.8, 22.0, 32.0, 48.0, 39.0, 27.0, 5.0]</td>\n",
       "      <td>6</td>\n",
       "      <td>['brown ground beef in large pot', 'add choppe...</td>\n",
       "      <td>this modified version of 'mom's' chili was a h...</td>\n",
       "      <td>['ground beef', 'yellow onions', 'diced tomato...</td>\n",
       "      <td>13</td>\n",
       "    </tr>\n",
       "    <tr>\n",
       "      <th>3</th>\n",
       "      <td>alouette  potatoes</td>\n",
       "      <td>59389</td>\n",
       "      <td>45</td>\n",
       "      <td>68585</td>\n",
       "      <td>2003-04-14</td>\n",
       "      <td>['60-minutes-or-less', 'time-to-make', 'course...</td>\n",
       "      <td>[368.1, 17.0, 10.0, 2.0, 14.0, 8.0, 20.0]</td>\n",
       "      <td>11</td>\n",
       "      <td>['place potatoes in a large pot of lightly sal...</td>\n",
       "      <td>this is a super easy, great tasting, make ahea...</td>\n",
       "      <td>['spreadable cheese with garlic and herbs', 'n...</td>\n",
       "      <td>11</td>\n",
       "    </tr>\n",
       "    <tr>\n",
       "      <th>4</th>\n",
       "      <td>amish  tomato ketchup  for canning</td>\n",
       "      <td>44061</td>\n",
       "      <td>190</td>\n",
       "      <td>41706</td>\n",
       "      <td>2002-10-25</td>\n",
       "      <td>['weeknight', 'time-to-make', 'course', 'main-...</td>\n",
       "      <td>[352.9, 1.0, 337.0, 23.0, 3.0, 0.0, 28.0]</td>\n",
       "      <td>5</td>\n",
       "      <td>['mix all ingredients&amp; boil for 2 1 / 2 hours ...</td>\n",
       "      <td>my dh's amish mother raised him on this recipe...</td>\n",
       "      <td>['tomato juice', 'apple cider vinegar', 'sugar...</td>\n",
       "      <td>8</td>\n",
       "    </tr>\n",
       "  </tbody>\n",
       "</table>\n",
       "</div>"
      ],
      "text/plain": [
       "                                         name      id  minutes  \\\n",
       "0  arriba   baked winter squash mexican style  137739       55   \n",
       "1            a bit different  breakfast pizza   31490       30   \n",
       "2                   all in the kitchen  chili  112140      130   \n",
       "3                          alouette  potatoes   59389       45   \n",
       "4          amish  tomato ketchup  for canning   44061      190   \n",
       "\n",
       "   contributor_id   submitted  \\\n",
       "0           47892  2005-09-16   \n",
       "1           26278  2002-06-17   \n",
       "2          196586  2005-02-25   \n",
       "3           68585  2003-04-14   \n",
       "4           41706  2002-10-25   \n",
       "\n",
       "                                                tags  \\\n",
       "0  ['60-minutes-or-less', 'time-to-make', 'course...   \n",
       "1  ['30-minutes-or-less', 'time-to-make', 'course...   \n",
       "2  ['time-to-make', 'course', 'preparation', 'mai...   \n",
       "3  ['60-minutes-or-less', 'time-to-make', 'course...   \n",
       "4  ['weeknight', 'time-to-make', 'course', 'main-...   \n",
       "\n",
       "                                    nutrition  n_steps  \\\n",
       "0       [51.5, 0.0, 13.0, 0.0, 2.0, 0.0, 4.0]       11   \n",
       "1   [173.4, 18.0, 0.0, 17.0, 22.0, 35.0, 1.0]        9   \n",
       "2  [269.8, 22.0, 32.0, 48.0, 39.0, 27.0, 5.0]        6   \n",
       "3   [368.1, 17.0, 10.0, 2.0, 14.0, 8.0, 20.0]       11   \n",
       "4   [352.9, 1.0, 337.0, 23.0, 3.0, 0.0, 28.0]        5   \n",
       "\n",
       "                                               steps  \\\n",
       "0  ['make a choice and proceed with recipe', 'dep...   \n",
       "1  ['preheat oven to 425 degrees f', 'press dough...   \n",
       "2  ['brown ground beef in large pot', 'add choppe...   \n",
       "3  ['place potatoes in a large pot of lightly sal...   \n",
       "4  ['mix all ingredients& boil for 2 1 / 2 hours ...   \n",
       "\n",
       "                                         description  \\\n",
       "0  autumn is my favorite time of year to cook! th...   \n",
       "1  this recipe calls for the crust to be prebaked...   \n",
       "2  this modified version of 'mom's' chili was a h...   \n",
       "3  this is a super easy, great tasting, make ahea...   \n",
       "4  my dh's amish mother raised him on this recipe...   \n",
       "\n",
       "                                         ingredients  n_ingredients  \n",
       "0  ['winter squash', 'mexican seasoning', 'mixed ...              7  \n",
       "1  ['prepared pizza crust', 'sausage patty', 'egg...              6  \n",
       "2  ['ground beef', 'yellow onions', 'diced tomato...             13  \n",
       "3  ['spreadable cheese with garlic and herbs', 'n...             11  \n",
       "4  ['tomato juice', 'apple cider vinegar', 'sugar...              8  "
      ]
     },
     "execution_count": 19,
     "metadata": {},
     "output_type": "execute_result"
    }
   ],
   "source": [
    "df_raw_recipes.head()"
   ]
  },
  {
   "cell_type": "markdown",
   "metadata": {
    "papermill": {
     "duration": 0.016795,
     "end_time": "2024-07-23T18:52:16.578165",
     "exception": false,
     "start_time": "2024-07-23T18:52:16.56137",
     "status": "completed"
    },
    "tags": []
   },
   "source": [
    "We see that the RAW_recipes.csv file contains various details about a recipe Specifically, information is provided about:\n",
    "\n",
    "* The preparation time in minutes (see minutes column)\n",
    "* Basic nutritional information, e.g. calories, fat, protein (see nutrition column)\n",
    "* The ingredients needed for the recipe (see ingredients column)\n",
    "* The number of ingredients (see column n_ingredients)\n",
    "* The steps for its execution (see steps column)\n",
    "\n",
    "**Ideas for the future**\n",
    "* The information on the preparation time of a recipe can be combined with the information on the number of ingredients it requires, in order to suggest easy and quick recipes.\n",
    "* The information of the ingredients needed by a recipe can be used in the scenario where the user selects (or enters) the ingredients at his disposal and wants recipes that include these ingredients.\n",
    "* Nutritional information related to a recipe can be leveraged in the scenario where the user wants recipes e.g. with low calories due to dieting.\n",
    "\n",
    "So at first glance, we see that the **RAW_recipes.csv** file provides enough information about a recipe to satisfy critical functional requirements of the application."
   ]
  },
  {
   "cell_type": "markdown",
   "metadata": {
    "papermill": {
     "duration": 0.016802,
     "end_time": "2024-07-23T18:52:16.612092",
     "exception": false,
     "start_time": "2024-07-23T18:52:16.59529",
     "status": "completed"
    },
    "tags": []
   },
   "source": [
    "# Data preprocessing (for content-based filtering)"
   ]
  },
  {
   "cell_type": "markdown",
   "metadata": {
    "papermill": {
     "duration": 0.016656,
     "end_time": "2024-07-23T18:52:16.645701",
     "exception": false,
     "start_time": "2024-07-23T18:52:16.629045",
     "status": "completed"
    },
    "tags": []
   },
   "source": [
    "Based on the initial plan, we will implement a first draft in the direction of **content-based filtering** as a recommendation method. In this method we are interested in the grouping of \"similar\" objects, i.e. recipes in our case. Thus, we will attempt to properly process the recipe data (present in the RAW_recipes.csv file), so that given the name of a recipe, e.g. 5 similar recipes. This is the central idea behind content-based filtering and is a key component of the work."
   ]
  },
  {
   "cell_type": "code",
   "execution_count": 20,
   "metadata": {
    "papermill": {
     "duration": 5.336901,
     "end_time": "2024-07-23T18:52:22.000227",
     "exception": false,
     "start_time": "2024-07-23T18:52:16.663326",
     "status": "completed"
    },
    "tags": []
   },
   "outputs": [],
   "source": [
    "df = pd.read_csv(input_path + \"RAW_recipes.csv\")"
   ]
  },
  {
   "cell_type": "code",
   "execution_count": 21,
   "metadata": {
    "papermill": {
     "duration": 0.032184,
     "end_time": "2024-07-23T18:52:22.050632",
     "exception": false,
     "start_time": "2024-07-23T18:52:22.018448",
     "status": "completed"
    },
    "tags": []
   },
   "outputs": [
    {
     "data": {
      "text/plain": [
       "0               [51.5, 0.0, 13.0, 0.0, 2.0, 0.0, 4.0]\n",
       "1           [173.4, 18.0, 0.0, 17.0, 22.0, 35.0, 1.0]\n",
       "2          [269.8, 22.0, 32.0, 48.0, 39.0, 27.0, 5.0]\n",
       "3           [368.1, 17.0, 10.0, 2.0, 14.0, 8.0, 20.0]\n",
       "4           [352.9, 1.0, 337.0, 23.0, 3.0, 0.0, 28.0]\n",
       "                             ...                     \n",
       "231632    [415.2, 26.0, 34.0, 26.0, 44.0, 21.0, 15.0]\n",
       "231633          [14.8, 0.0, 2.0, 58.0, 1.0, 0.0, 1.0]\n",
       "231634           [59.2, 6.0, 2.0, 3.0, 6.0, 5.0, 0.0]\n",
       "231635      [188.0, 11.0, 57.0, 11.0, 7.0, 21.0, 9.0]\n",
       "231636       [174.9, 14.0, 33.0, 4.0, 4.0, 11.0, 6.0]\n",
       "Name: nutrition, Length: 231637, dtype: object"
      ]
     },
     "execution_count": 21,
     "metadata": {},
     "output_type": "execute_result"
    }
   ],
   "source": [
    "df['nutrition']"
   ]
  },
  {
   "cell_type": "markdown",
   "metadata": {
    "papermill": {
     "duration": 0.017799,
     "end_time": "2024-07-23T18:52:22.086081",
     "exception": false,
     "start_time": "2024-07-23T18:52:22.068282",
     "status": "completed"
    },
    "tags": []
   },
   "source": [
    "The **nutrition** column includes nutritional information about:\n",
    "\n",
    "* calories\n",
    "* fat (total fat)\n",
    "* sugar\n",
    "* sodium\n",
    "* protein\n",
    "* saturated fat\n",
    "* carbohydrates\n",
    "\n",
    "It is necessary to isolate these categories in separate columns of the DataFrame, in order to be able to exploit the information they provide."
   ]
  },
  {
   "cell_type": "code",
   "execution_count": 22,
   "metadata": {
    "papermill": {
     "duration": 6.54308,
     "end_time": "2024-07-23T18:52:28.646498",
     "exception": false,
     "start_time": "2024-07-23T18:52:22.103418",
     "status": "completed"
    },
    "tags": []
   },
   "outputs": [],
   "source": [
    "df['nutrition'] = df['nutrition'].apply(eval)\n",
    "\n",
    "nutrition_columns = [\n",
    "    'calories', \n",
    "    'total fat (PDV)', \n",
    "    'sugar (PDV)', \n",
    "    'sodium (PDV)', \n",
    "    'protein (PDV)', \n",
    "    'saturated fat (PDV)', \n",
    "    'carbohydrates (PDV)'\n",
    "]\n",
    "\n",
    "df[nutrition_columns] = pd.DataFrame(df['nutrition'].tolist(), index=df.index)"
   ]
  },
  {
   "cell_type": "markdown",
   "metadata": {
    "papermill": {
     "duration": 0.016908,
     "end_time": "2024-07-23T18:52:28.680708",
     "exception": false,
     "start_time": "2024-07-23T18:52:28.6638",
     "status": "completed"
    },
    "tags": []
   },
   "source": [
    "We remove the columns **id**, **contributor_id** and **submitted**, because they do not offer essential information about the recipe and in general about the recommendation process. Furthermore, it is emphasized that the **nutrition** column is also removed, because it is replaced by its individual components (calories, fat, sugar, etc.). Finally, we remove duplicate entries."
   ]
  },
  {
   "cell_type": "code",
   "execution_count": 23,
   "metadata": {
    "papermill": {
     "duration": 1.444568,
     "end_time": "2024-07-23T18:52:30.204854",
     "exception": false,
     "start_time": "2024-07-23T18:52:28.760286",
     "status": "completed"
    },
    "tags": []
   },
   "outputs": [],
   "source": [
    "df = df.drop(['id', 'contributor_id', 'submitted', 'nutrition'], axis=1)\n",
    "df = df.drop_duplicates()\n",
    "df = df.dropna()"
   ]
  },
  {
   "cell_type": "markdown",
   "metadata": {
    "papermill": {
     "duration": 0.017231,
     "end_time": "2024-07-23T18:52:30.240115",
     "exception": false,
     "start_time": "2024-07-23T18:52:30.222884",
     "status": "completed"
    },
    "tags": []
   },
   "source": [
    "We take a first look at the processed dataset and notice that it contains the information related to one recipe and only that."
   ]
  },
  {
   "cell_type": "code",
   "execution_count": 24,
   "metadata": {
    "papermill": {
     "duration": 0.051982,
     "end_time": "2024-07-23T18:52:30.309545",
     "exception": false,
     "start_time": "2024-07-23T18:52:30.257563",
     "status": "completed"
    },
    "tags": []
   },
   "outputs": [
    {
     "data": {
      "text/html": [
       "<div>\n",
       "<style scoped>\n",
       "    .dataframe tbody tr th:only-of-type {\n",
       "        vertical-align: middle;\n",
       "    }\n",
       "\n",
       "    .dataframe tbody tr th {\n",
       "        vertical-align: top;\n",
       "    }\n",
       "\n",
       "    .dataframe thead th {\n",
       "        text-align: right;\n",
       "    }\n",
       "</style>\n",
       "<table border=\"1\" class=\"dataframe\">\n",
       "  <thead>\n",
       "    <tr style=\"text-align: right;\">\n",
       "      <th></th>\n",
       "      <th>name</th>\n",
       "      <th>minutes</th>\n",
       "      <th>tags</th>\n",
       "      <th>n_steps</th>\n",
       "      <th>steps</th>\n",
       "      <th>description</th>\n",
       "      <th>ingredients</th>\n",
       "      <th>n_ingredients</th>\n",
       "      <th>calories</th>\n",
       "      <th>total fat (PDV)</th>\n",
       "      <th>sugar (PDV)</th>\n",
       "      <th>sodium (PDV)</th>\n",
       "      <th>protein (PDV)</th>\n",
       "      <th>saturated fat (PDV)</th>\n",
       "      <th>carbohydrates (PDV)</th>\n",
       "    </tr>\n",
       "  </thead>\n",
       "  <tbody>\n",
       "    <tr>\n",
       "      <th>0</th>\n",
       "      <td>arriba   baked winter squash mexican style</td>\n",
       "      <td>55</td>\n",
       "      <td>['60-minutes-or-less', 'time-to-make', 'course...</td>\n",
       "      <td>11</td>\n",
       "      <td>['make a choice and proceed with recipe', 'dep...</td>\n",
       "      <td>autumn is my favorite time of year to cook! th...</td>\n",
       "      <td>['winter squash', 'mexican seasoning', 'mixed ...</td>\n",
       "      <td>7</td>\n",
       "      <td>51.5</td>\n",
       "      <td>0.0</td>\n",
       "      <td>13.0</td>\n",
       "      <td>0.0</td>\n",
       "      <td>2.0</td>\n",
       "      <td>0.0</td>\n",
       "      <td>4.0</td>\n",
       "    </tr>\n",
       "    <tr>\n",
       "      <th>1</th>\n",
       "      <td>a bit different  breakfast pizza</td>\n",
       "      <td>30</td>\n",
       "      <td>['30-minutes-or-less', 'time-to-make', 'course...</td>\n",
       "      <td>9</td>\n",
       "      <td>['preheat oven to 425 degrees f', 'press dough...</td>\n",
       "      <td>this recipe calls for the crust to be prebaked...</td>\n",
       "      <td>['prepared pizza crust', 'sausage patty', 'egg...</td>\n",
       "      <td>6</td>\n",
       "      <td>173.4</td>\n",
       "      <td>18.0</td>\n",
       "      <td>0.0</td>\n",
       "      <td>17.0</td>\n",
       "      <td>22.0</td>\n",
       "      <td>35.0</td>\n",
       "      <td>1.0</td>\n",
       "    </tr>\n",
       "    <tr>\n",
       "      <th>2</th>\n",
       "      <td>all in the kitchen  chili</td>\n",
       "      <td>130</td>\n",
       "      <td>['time-to-make', 'course', 'preparation', 'mai...</td>\n",
       "      <td>6</td>\n",
       "      <td>['brown ground beef in large pot', 'add choppe...</td>\n",
       "      <td>this modified version of 'mom's' chili was a h...</td>\n",
       "      <td>['ground beef', 'yellow onions', 'diced tomato...</td>\n",
       "      <td>13</td>\n",
       "      <td>269.8</td>\n",
       "      <td>22.0</td>\n",
       "      <td>32.0</td>\n",
       "      <td>48.0</td>\n",
       "      <td>39.0</td>\n",
       "      <td>27.0</td>\n",
       "      <td>5.0</td>\n",
       "    </tr>\n",
       "    <tr>\n",
       "      <th>3</th>\n",
       "      <td>alouette  potatoes</td>\n",
       "      <td>45</td>\n",
       "      <td>['60-minutes-or-less', 'time-to-make', 'course...</td>\n",
       "      <td>11</td>\n",
       "      <td>['place potatoes in a large pot of lightly sal...</td>\n",
       "      <td>this is a super easy, great tasting, make ahea...</td>\n",
       "      <td>['spreadable cheese with garlic and herbs', 'n...</td>\n",
       "      <td>11</td>\n",
       "      <td>368.1</td>\n",
       "      <td>17.0</td>\n",
       "      <td>10.0</td>\n",
       "      <td>2.0</td>\n",
       "      <td>14.0</td>\n",
       "      <td>8.0</td>\n",
       "      <td>20.0</td>\n",
       "    </tr>\n",
       "    <tr>\n",
       "      <th>4</th>\n",
       "      <td>amish  tomato ketchup  for canning</td>\n",
       "      <td>190</td>\n",
       "      <td>['weeknight', 'time-to-make', 'course', 'main-...</td>\n",
       "      <td>5</td>\n",
       "      <td>['mix all ingredients&amp; boil for 2 1 / 2 hours ...</td>\n",
       "      <td>my dh's amish mother raised him on this recipe...</td>\n",
       "      <td>['tomato juice', 'apple cider vinegar', 'sugar...</td>\n",
       "      <td>8</td>\n",
       "      <td>352.9</td>\n",
       "      <td>1.0</td>\n",
       "      <td>337.0</td>\n",
       "      <td>23.0</td>\n",
       "      <td>3.0</td>\n",
       "      <td>0.0</td>\n",
       "      <td>28.0</td>\n",
       "    </tr>\n",
       "  </tbody>\n",
       "</table>\n",
       "</div>"
      ],
      "text/plain": [
       "                                         name  minutes  \\\n",
       "0  arriba   baked winter squash mexican style       55   \n",
       "1            a bit different  breakfast pizza       30   \n",
       "2                   all in the kitchen  chili      130   \n",
       "3                          alouette  potatoes       45   \n",
       "4          amish  tomato ketchup  for canning      190   \n",
       "\n",
       "                                                tags  n_steps  \\\n",
       "0  ['60-minutes-or-less', 'time-to-make', 'course...       11   \n",
       "1  ['30-minutes-or-less', 'time-to-make', 'course...        9   \n",
       "2  ['time-to-make', 'course', 'preparation', 'mai...        6   \n",
       "3  ['60-minutes-or-less', 'time-to-make', 'course...       11   \n",
       "4  ['weeknight', 'time-to-make', 'course', 'main-...        5   \n",
       "\n",
       "                                               steps  \\\n",
       "0  ['make a choice and proceed with recipe', 'dep...   \n",
       "1  ['preheat oven to 425 degrees f', 'press dough...   \n",
       "2  ['brown ground beef in large pot', 'add choppe...   \n",
       "3  ['place potatoes in a large pot of lightly sal...   \n",
       "4  ['mix all ingredients& boil for 2 1 / 2 hours ...   \n",
       "\n",
       "                                         description  \\\n",
       "0  autumn is my favorite time of year to cook! th...   \n",
       "1  this recipe calls for the crust to be prebaked...   \n",
       "2  this modified version of 'mom's' chili was a h...   \n",
       "3  this is a super easy, great tasting, make ahea...   \n",
       "4  my dh's amish mother raised him on this recipe...   \n",
       "\n",
       "                                         ingredients  n_ingredients  calories  \\\n",
       "0  ['winter squash', 'mexican seasoning', 'mixed ...              7      51.5   \n",
       "1  ['prepared pizza crust', 'sausage patty', 'egg...              6     173.4   \n",
       "2  ['ground beef', 'yellow onions', 'diced tomato...             13     269.8   \n",
       "3  ['spreadable cheese with garlic and herbs', 'n...             11     368.1   \n",
       "4  ['tomato juice', 'apple cider vinegar', 'sugar...              8     352.9   \n",
       "\n",
       "   total fat (PDV)  sugar (PDV)  sodium (PDV)  protein (PDV)  \\\n",
       "0              0.0         13.0           0.0            2.0   \n",
       "1             18.0          0.0          17.0           22.0   \n",
       "2             22.0         32.0          48.0           39.0   \n",
       "3             17.0         10.0           2.0           14.0   \n",
       "4              1.0        337.0          23.0            3.0   \n",
       "\n",
       "   saturated fat (PDV)  carbohydrates (PDV)  \n",
       "0                  0.0                  4.0  \n",
       "1                 35.0                  1.0  \n",
       "2                 27.0                  5.0  \n",
       "3                  8.0                 20.0  \n",
       "4                  0.0                 28.0  "
      ]
     },
     "execution_count": 24,
     "metadata": {},
     "output_type": "execute_result"
    }
   ],
   "source": [
    "df.head()"
   ]
  },
  {
   "cell_type": "markdown",
   "metadata": {
    "papermill": {
     "duration": 0.017474,
     "end_time": "2024-07-23T18:52:30.345113",
     "exception": false,
     "start_time": "2024-07-23T18:52:30.327639",
     "status": "completed"
    },
    "tags": []
   },
   "source": [
    "Below we see a summary of the statistical properties of the processed dataset. We point out that statistical properties are provided only for DataFrame columns that contain numeric values."
   ]
  },
  {
   "cell_type": "code",
   "execution_count": 25,
   "metadata": {
    "papermill": {
     "duration": 0.157464,
     "end_time": "2024-07-23T18:52:30.520453",
     "exception": false,
     "start_time": "2024-07-23T18:52:30.362989",
     "status": "completed"
    },
    "tags": []
   },
   "outputs": [
    {
     "data": {
      "text/html": [
       "<div>\n",
       "<style scoped>\n",
       "    .dataframe tbody tr th:only-of-type {\n",
       "        vertical-align: middle;\n",
       "    }\n",
       "\n",
       "    .dataframe tbody tr th {\n",
       "        vertical-align: top;\n",
       "    }\n",
       "\n",
       "    .dataframe thead th {\n",
       "        text-align: right;\n",
       "    }\n",
       "</style>\n",
       "<table border=\"1\" class=\"dataframe\">\n",
       "  <thead>\n",
       "    <tr style=\"text-align: right;\">\n",
       "      <th></th>\n",
       "      <th>minutes</th>\n",
       "      <th>n_steps</th>\n",
       "      <th>n_ingredients</th>\n",
       "      <th>calories</th>\n",
       "      <th>total fat (PDV)</th>\n",
       "      <th>sugar (PDV)</th>\n",
       "      <th>sodium (PDV)</th>\n",
       "      <th>protein (PDV)</th>\n",
       "      <th>saturated fat (PDV)</th>\n",
       "      <th>carbohydrates (PDV)</th>\n",
       "    </tr>\n",
       "  </thead>\n",
       "  <tbody>\n",
       "    <tr>\n",
       "      <th>count</th>\n",
       "      <td>2.266570e+05</td>\n",
       "      <td>226657.000000</td>\n",
       "      <td>226657.000000</td>\n",
       "      <td>226657.000000</td>\n",
       "      <td>226657.000000</td>\n",
       "      <td>226657.000000</td>\n",
       "      <td>226657.000000</td>\n",
       "      <td>226657.000000</td>\n",
       "      <td>226657.000000</td>\n",
       "      <td>226657.000000</td>\n",
       "    </tr>\n",
       "    <tr>\n",
       "      <th>mean</th>\n",
       "      <td>9.602472e+03</td>\n",
       "      <td>9.773927</td>\n",
       "      <td>9.054170</td>\n",
       "      <td>471.662774</td>\n",
       "      <td>35.936406</td>\n",
       "      <td>83.447059</td>\n",
       "      <td>30.063581</td>\n",
       "      <td>34.600458</td>\n",
       "      <td>45.364816</td>\n",
       "      <td>15.450752</td>\n",
       "    </tr>\n",
       "    <tr>\n",
       "      <th>std</th>\n",
       "      <td>4.510715e+06</td>\n",
       "      <td>5.999824</td>\n",
       "      <td>3.740942</td>\n",
       "      <td>1194.845397</td>\n",
       "      <td>77.733347</td>\n",
       "      <td>807.100380</td>\n",
       "      <td>131.863087</td>\n",
       "      <td>58.483655</td>\n",
       "      <td>97.638329</td>\n",
       "      <td>82.482854</td>\n",
       "    </tr>\n",
       "    <tr>\n",
       "      <th>min</th>\n",
       "      <td>0.000000e+00</td>\n",
       "      <td>0.000000</td>\n",
       "      <td>1.000000</td>\n",
       "      <td>0.000000</td>\n",
       "      <td>0.000000</td>\n",
       "      <td>0.000000</td>\n",
       "      <td>0.000000</td>\n",
       "      <td>0.000000</td>\n",
       "      <td>0.000000</td>\n",
       "      <td>0.000000</td>\n",
       "    </tr>\n",
       "    <tr>\n",
       "      <th>25%</th>\n",
       "      <td>2.000000e+01</td>\n",
       "      <td>6.000000</td>\n",
       "      <td>6.000000</td>\n",
       "      <td>174.500000</td>\n",
       "      <td>8.000000</td>\n",
       "      <td>9.000000</td>\n",
       "      <td>5.000000</td>\n",
       "      <td>7.000000</td>\n",
       "      <td>7.000000</td>\n",
       "      <td>4.000000</td>\n",
       "    </tr>\n",
       "    <tr>\n",
       "      <th>50%</th>\n",
       "      <td>4.000000e+01</td>\n",
       "      <td>9.000000</td>\n",
       "      <td>9.000000</td>\n",
       "      <td>313.300000</td>\n",
       "      <td>20.000000</td>\n",
       "      <td>25.000000</td>\n",
       "      <td>15.000000</td>\n",
       "      <td>18.000000</td>\n",
       "      <td>23.000000</td>\n",
       "      <td>9.000000</td>\n",
       "    </tr>\n",
       "    <tr>\n",
       "      <th>75%</th>\n",
       "      <td>6.500000e+01</td>\n",
       "      <td>12.000000</td>\n",
       "      <td>11.000000</td>\n",
       "      <td>518.700000</td>\n",
       "      <td>41.000000</td>\n",
       "      <td>68.000000</td>\n",
       "      <td>33.000000</td>\n",
       "      <td>51.000000</td>\n",
       "      <td>52.000000</td>\n",
       "      <td>16.000000</td>\n",
       "    </tr>\n",
       "    <tr>\n",
       "      <th>max</th>\n",
       "      <td>2.147484e+09</td>\n",
       "      <td>145.000000</td>\n",
       "      <td>43.000000</td>\n",
       "      <td>434360.200000</td>\n",
       "      <td>17183.000000</td>\n",
       "      <td>362729.000000</td>\n",
       "      <td>29338.000000</td>\n",
       "      <td>6552.000000</td>\n",
       "      <td>10395.000000</td>\n",
       "      <td>36098.000000</td>\n",
       "    </tr>\n",
       "  </tbody>\n",
       "</table>\n",
       "</div>"
      ],
      "text/plain": [
       "            minutes        n_steps  n_ingredients       calories  \\\n",
       "count  2.266570e+05  226657.000000  226657.000000  226657.000000   \n",
       "mean   9.602472e+03       9.773927       9.054170     471.662774   \n",
       "std    4.510715e+06       5.999824       3.740942    1194.845397   \n",
       "min    0.000000e+00       0.000000       1.000000       0.000000   \n",
       "25%    2.000000e+01       6.000000       6.000000     174.500000   \n",
       "50%    4.000000e+01       9.000000       9.000000     313.300000   \n",
       "75%    6.500000e+01      12.000000      11.000000     518.700000   \n",
       "max    2.147484e+09     145.000000      43.000000  434360.200000   \n",
       "\n",
       "       total fat (PDV)    sugar (PDV)   sodium (PDV)  protein (PDV)  \\\n",
       "count    226657.000000  226657.000000  226657.000000  226657.000000   \n",
       "mean         35.936406      83.447059      30.063581      34.600458   \n",
       "std          77.733347     807.100380     131.863087      58.483655   \n",
       "min           0.000000       0.000000       0.000000       0.000000   \n",
       "25%           8.000000       9.000000       5.000000       7.000000   \n",
       "50%          20.000000      25.000000      15.000000      18.000000   \n",
       "75%          41.000000      68.000000      33.000000      51.000000   \n",
       "max       17183.000000  362729.000000   29338.000000    6552.000000   \n",
       "\n",
       "       saturated fat (PDV)  carbohydrates (PDV)  \n",
       "count        226657.000000        226657.000000  \n",
       "mean             45.364816            15.450752  \n",
       "std              97.638329            82.482854  \n",
       "min               0.000000             0.000000  \n",
       "25%               7.000000             4.000000  \n",
       "50%              23.000000             9.000000  \n",
       "75%              52.000000            16.000000  \n",
       "max           10395.000000         36098.000000  "
      ]
     },
     "execution_count": 25,
     "metadata": {},
     "output_type": "execute_result"
    }
   ],
   "source": [
    "df.describe()"
   ]
  },
  {
   "cell_type": "markdown",
   "metadata": {
    "papermill": {
     "duration": 0.018869,
     "end_time": "2024-07-23T18:52:30.558",
     "exception": false,
     "start_time": "2024-07-23T18:52:30.539131",
     "status": "completed"
    },
    "tags": []
   },
   "source": [
    "Let's focus on the row named **min** of the table above. This line gives information about the minimum value of each column of the DataFrame. We notice that all columns have a minimum value of 0, except the **n_ingredients** column which has a minimum value of 1. However, every \"valid\" recipe has the following specifications:\n",
    "\n",
    "* Requires non-zero brew time (**minutes > 0**)\n",
    "* Requires at least 2 ingredients (**n_ingredients > 1**)\n",
    "* Requires at least 2 brewing steps (**n_steps > 1**)\n",
    "* Has a non-zero number of calories (**calories > 0**)\n",
    "* Cannot have all nutritional information (**calories**) zero at the same time\n",
    "\n",
    "The quality of the recommender is largely linked to the quality of the dataset it is trained on. Therefore, it is necessary to further process the DataFrame in order to ensure its validity according to the above criteria."
   ]
  },
  {
   "cell_type": "code",
   "execution_count": 26,
   "metadata": {
    "papermill": {
     "duration": 0.15213,
     "end_time": "2024-07-23T18:52:30.728589",
     "exception": false,
     "start_time": "2024-07-23T18:52:30.576459",
     "status": "completed"
    },
    "tags": []
   },
   "outputs": [],
   "source": [
    "df_filtered = df.copy()\n",
    "\n",
    "df_filtered = df_filtered[(\n",
    "    df_filtered['minutes'] > 0) & \n",
    "    (df_filtered['n_ingredients'] > 1) & \n",
    "    (df_filtered['n_steps'] > 1) & \n",
    "    (df_filtered['calories'] > 0)\n",
    "]\n",
    "\n",
    "df_filtered = df_filtered[~(\n",
    "    (df_filtered['total fat (PDV)'] == 0) & \n",
    "    (df_filtered['sugar (PDV)'] == 0) & \n",
    "    (df_filtered['sodium (PDV)'] == 0) & \n",
    "    (df_filtered['protein (PDV)'] == 0) & \n",
    "    (df_filtered['saturated fat (PDV)'] == 0) & \n",
    "    (df_filtered['carbohydrates (PDV)'] == 0)\n",
    ")]"
   ]
  },
  {
   "cell_type": "code",
   "execution_count": 27,
   "metadata": {
    "papermill": {
     "duration": 0.150663,
     "end_time": "2024-07-23T18:52:30.89752",
     "exception": false,
     "start_time": "2024-07-23T18:52:30.746857",
     "status": "completed"
    },
    "tags": []
   },
   "outputs": [
    {
     "data": {
      "text/html": [
       "<div>\n",
       "<style scoped>\n",
       "    .dataframe tbody tr th:only-of-type {\n",
       "        vertical-align: middle;\n",
       "    }\n",
       "\n",
       "    .dataframe tbody tr th {\n",
       "        vertical-align: top;\n",
       "    }\n",
       "\n",
       "    .dataframe thead th {\n",
       "        text-align: right;\n",
       "    }\n",
       "</style>\n",
       "<table border=\"1\" class=\"dataframe\">\n",
       "  <thead>\n",
       "    <tr style=\"text-align: right;\">\n",
       "      <th></th>\n",
       "      <th>minutes</th>\n",
       "      <th>n_steps</th>\n",
       "      <th>n_ingredients</th>\n",
       "      <th>calories</th>\n",
       "      <th>total fat (PDV)</th>\n",
       "      <th>sugar (PDV)</th>\n",
       "      <th>sodium (PDV)</th>\n",
       "      <th>protein (PDV)</th>\n",
       "      <th>saturated fat (PDV)</th>\n",
       "      <th>carbohydrates (PDV)</th>\n",
       "    </tr>\n",
       "  </thead>\n",
       "  <tbody>\n",
       "    <tr>\n",
       "      <th>count</th>\n",
       "      <td>2.229340e+05</td>\n",
       "      <td>222934.000000</td>\n",
       "      <td>222934.000000</td>\n",
       "      <td>222934.000000</td>\n",
       "      <td>222934.000000</td>\n",
       "      <td>222934.000000</td>\n",
       "      <td>222934.000000</td>\n",
       "      <td>222934.000000</td>\n",
       "      <td>222934.00000</td>\n",
       "      <td>222934.000000</td>\n",
       "    </tr>\n",
       "    <tr>\n",
       "      <th>mean</th>\n",
       "      <td>9.756526e+03</td>\n",
       "      <td>9.886074</td>\n",
       "      <td>9.108584</td>\n",
       "      <td>474.267085</td>\n",
       "      <td>36.167431</td>\n",
       "      <td>83.635556</td>\n",
       "      <td>29.887177</td>\n",
       "      <td>34.930136</td>\n",
       "      <td>45.68911</td>\n",
       "      <td>15.526914</td>\n",
       "    </tr>\n",
       "    <tr>\n",
       "      <th>std</th>\n",
       "      <td>4.548223e+06</td>\n",
       "      <td>5.960141</td>\n",
       "      <td>3.728739</td>\n",
       "      <td>1201.606049</td>\n",
       "      <td>77.894856</td>\n",
       "      <td>813.319435</td>\n",
       "      <td>129.412033</td>\n",
       "      <td>58.717577</td>\n",
       "      <td>97.57604</td>\n",
       "      <td>83.088682</td>\n",
       "    </tr>\n",
       "    <tr>\n",
       "      <th>min</th>\n",
       "      <td>1.000000e+00</td>\n",
       "      <td>2.000000</td>\n",
       "      <td>2.000000</td>\n",
       "      <td>0.100000</td>\n",
       "      <td>0.000000</td>\n",
       "      <td>0.000000</td>\n",
       "      <td>0.000000</td>\n",
       "      <td>0.000000</td>\n",
       "      <td>0.00000</td>\n",
       "      <td>0.000000</td>\n",
       "    </tr>\n",
       "    <tr>\n",
       "      <th>25%</th>\n",
       "      <td>2.000000e+01</td>\n",
       "      <td>6.000000</td>\n",
       "      <td>6.000000</td>\n",
       "      <td>177.200000</td>\n",
       "      <td>8.000000</td>\n",
       "      <td>9.000000</td>\n",
       "      <td>5.000000</td>\n",
       "      <td>7.000000</td>\n",
       "      <td>7.00000</td>\n",
       "      <td>4.000000</td>\n",
       "    </tr>\n",
       "    <tr>\n",
       "      <th>50%</th>\n",
       "      <td>4.000000e+01</td>\n",
       "      <td>9.000000</td>\n",
       "      <td>9.000000</td>\n",
       "      <td>316.000000</td>\n",
       "      <td>21.000000</td>\n",
       "      <td>25.000000</td>\n",
       "      <td>15.000000</td>\n",
       "      <td>19.000000</td>\n",
       "      <td>23.00000</td>\n",
       "      <td>9.000000</td>\n",
       "    </tr>\n",
       "    <tr>\n",
       "      <th>75%</th>\n",
       "      <td>6.500000e+01</td>\n",
       "      <td>12.000000</td>\n",
       "      <td>11.000000</td>\n",
       "      <td>521.000000</td>\n",
       "      <td>41.000000</td>\n",
       "      <td>68.000000</td>\n",
       "      <td>33.000000</td>\n",
       "      <td>51.000000</td>\n",
       "      <td>53.00000</td>\n",
       "      <td>16.000000</td>\n",
       "    </tr>\n",
       "    <tr>\n",
       "      <th>max</th>\n",
       "      <td>2.147484e+09</td>\n",
       "      <td>145.000000</td>\n",
       "      <td>43.000000</td>\n",
       "      <td>434360.200000</td>\n",
       "      <td>17183.000000</td>\n",
       "      <td>362729.000000</td>\n",
       "      <td>29338.000000</td>\n",
       "      <td>6552.000000</td>\n",
       "      <td>10395.00000</td>\n",
       "      <td>36098.000000</td>\n",
       "    </tr>\n",
       "  </tbody>\n",
       "</table>\n",
       "</div>"
      ],
      "text/plain": [
       "            minutes        n_steps  n_ingredients       calories  \\\n",
       "count  2.229340e+05  222934.000000  222934.000000  222934.000000   \n",
       "mean   9.756526e+03       9.886074       9.108584     474.267085   \n",
       "std    4.548223e+06       5.960141       3.728739    1201.606049   \n",
       "min    1.000000e+00       2.000000       2.000000       0.100000   \n",
       "25%    2.000000e+01       6.000000       6.000000     177.200000   \n",
       "50%    4.000000e+01       9.000000       9.000000     316.000000   \n",
       "75%    6.500000e+01      12.000000      11.000000     521.000000   \n",
       "max    2.147484e+09     145.000000      43.000000  434360.200000   \n",
       "\n",
       "       total fat (PDV)    sugar (PDV)   sodium (PDV)  protein (PDV)  \\\n",
       "count    222934.000000  222934.000000  222934.000000  222934.000000   \n",
       "mean         36.167431      83.635556      29.887177      34.930136   \n",
       "std          77.894856     813.319435     129.412033      58.717577   \n",
       "min           0.000000       0.000000       0.000000       0.000000   \n",
       "25%           8.000000       9.000000       5.000000       7.000000   \n",
       "50%          21.000000      25.000000      15.000000      19.000000   \n",
       "75%          41.000000      68.000000      33.000000      51.000000   \n",
       "max       17183.000000  362729.000000   29338.000000    6552.000000   \n",
       "\n",
       "       saturated fat (PDV)  carbohydrates (PDV)  \n",
       "count         222934.00000        222934.000000  \n",
       "mean              45.68911            15.526914  \n",
       "std               97.57604            83.088682  \n",
       "min                0.00000             0.000000  \n",
       "25%                7.00000             4.000000  \n",
       "50%               23.00000             9.000000  \n",
       "75%               53.00000            16.000000  \n",
       "max            10395.00000         36098.000000  "
      ]
     },
     "execution_count": 27,
     "metadata": {},
     "output_type": "execute_result"
    }
   ],
   "source": [
    "df_filtered.describe()"
   ]
  },
  {
   "cell_type": "markdown",
   "metadata": {
    "papermill": {
     "duration": 0.018255,
     "end_time": "2024-07-23T18:52:30.934556",
     "exception": false,
     "start_time": "2024-07-23T18:52:30.916301",
     "status": "completed"
    },
    "tags": []
   },
   "source": [
    "We see that indeed the zero minimum values ​​in the **minutes**, **n_steps** and **calories** columns were removed. Also, the minimum value in the **ingredients** column is now 2 instead of 1."
   ]
  },
  {
   "cell_type": "code",
   "execution_count": 28,
   "metadata": {
    "papermill": {
     "duration": 0.029793,
     "end_time": "2024-07-23T18:52:30.982949",
     "exception": false,
     "start_time": "2024-07-23T18:52:30.953156",
     "status": "completed"
    },
    "tags": []
   },
   "outputs": [
    {
     "name": "stdout",
     "output_type": "stream",
     "text": [
      "Number of recipes before filtering: 226657\n",
      "Number of recipes after filtering: 222934\n",
      "Number of recipes that were removed: 3723 (1.64%)\n"
     ]
    }
   ],
   "source": [
    "print(f\"Number of recipes before filtering: {len(df)}\")\n",
    "print(f\"Number of recipes after filtering: {len(df_filtered)}\")\n",
    "\n",
    "num_recipes_removed = len(df) - len(df_filtered)\n",
    "print(f\"Number of recipes that were removed: {num_recipes_removed} ({round(100 * num_recipes_removed / len(df), 2)}%)\")"
   ]
  },
  {
   "cell_type": "markdown",
   "metadata": {
    "papermill": {
     "duration": 0.019453,
     "end_time": "2024-07-23T18:52:31.022015",
     "exception": false,
     "start_time": "2024-07-23T18:52:31.002562",
     "status": "completed"
    },
    "tags": []
   },
   "source": [
    "For oversight purposes, we display the distributions of the DataFrame columns that take numeric values."
   ]
  },
  {
   "cell_type": "code",
   "execution_count": 29,
   "metadata": {
    "papermill": {
     "duration": 2.201031,
     "end_time": "2024-07-23T18:52:33.242414",
     "exception": false,
     "start_time": "2024-07-23T18:52:31.041383",
     "status": "completed"
    },
    "tags": []
   },
   "outputs": [
    {
     "data": {
      "image/png": "[encoded data removed]",
      "text/plain": [
       "<Figure size 1500x1000 with 12 Axes>"
      ]
     },
     "metadata": {},
     "output_type": "display_data"
    }
   ],
   "source": [
    "df_filtered.hist(bins = 15, figsize = (15, 10))\n",
    "\n",
    "plt.show()"
   ]
  },
  {
   "cell_type": "markdown",
   "metadata": {
    "papermill": {
     "duration": 0.021916,
     "end_time": "2024-07-23T18:52:33.285103",
     "exception": false,
     "start_time": "2024-07-23T18:52:33.263187",
     "status": "completed"
    },
    "tags": []
   },
   "source": [
    "# Implementation of the recommender through content-based filtering"
   ]
  },
  {
   "cell_type": "markdown",
   "metadata": {
    "papermill": {
     "duration": 0.020535,
     "end_time": "2024-07-23T18:52:33.328475",
     "exception": false,
     "start_time": "2024-07-23T18:52:33.30794",
     "status": "completed"
    },
    "tags": []
   },
   "source": [
    "First, we will use the [TF-IFD vectorization](https://en.wikipedia.org/wiki/Tf%E2%80%93idf) technique for feature extraction from the processed dataset.\n",
    "\n",
    "The TF-IFD vectorization technique, through the `fit_transform()` method, analyzes a collection of documents and extracts critical information such as the vocabulary and the most important terms. This information is finally encoded in a sparse table (vector, hence the vectorization). It is understood that this method makes sense to be used only for text data.\n",
    "\n",
    "Then, via the `transform()` method, a new document (in this case, the target recipe) is also encoded into an array, based on the extracted features (see `fit_transform()` method).\n",
    "\n",
    "Finally, after all the data has been converted into an array that now contains numbers, we'll use cosine distance ([cosine similarity](https://en.wikipedia.org/wiki/Cosine_similarity)) to hierarchically return the 5 ex . more similar recipes to the target recipe.\n",
    "\n",
    "The important question is this:\n",
    "* Which columns of the edited dataset will constitute the documents we mention above?\n",
    "\n",
    "As we said, we are only interested in columns that contain text information. So, we will experiment with the **steps**, **description** and **ingredients** columns.\n",
    "\n",
    "However, in addition to the above, there are still columns that provide valuable information about a recipe (eg **minutes**, **calories**) in numerical form. We will examine how we can utilize this kind of information, so that in combination with TF-IDF vectorization, we can produce good recommendations. For numerical features, the [Standard Scaling](https://scikit-learn.org/stable/modules/generated/sklearn.preprocessing.StandardScaler.html) technique will be applied, so that all values ​​are samples of the normal distribution (gaussian distribution), i.e. characterized by zero mean value and unit standard deviation."
   ]
  },
  {
   "cell_type": "markdown",
   "metadata": {
    "papermill": {
     "duration": 0.022416,
     "end_time": "2024-07-23T18:52:33.371829",
     "exception": false,
     "start_time": "2024-07-23T18:52:33.349413",
     "status": "completed"
    },
    "tags": []
   },
   "source": [
    "Next, we will use various combinations of attributes for feature extraction to finally see which combination produces the best recommendations."
   ]
  },
  {
   "cell_type": "code",
   "execution_count": 30,
   "metadata": {
    "papermill": {
     "duration": 0.031459,
     "end_time": "2024-07-23T18:52:33.426547",
     "exception": false,
     "start_time": "2024-07-23T18:52:33.395088",
     "status": "completed"
    },
    "tags": []
   },
   "outputs": [],
   "source": [
    "# Dictionary to hold vector reoresentations for the different sets of attributes during feature extraction\n",
    "# The key is a string that indicates the corresponding set of attributes\n",
    "vectors = {}"
   ]
  },
  {
   "cell_type": "markdown",
   "metadata": {
    "papermill": {
     "duration": 0.019923,
     "end_time": "2024-07-23T18:52:33.466685",
     "exception": false,
     "start_time": "2024-07-23T18:52:33.446762",
     "status": "completed"
    },
    "tags": []
   },
   "source": [
    "## steps"
   ]
  },
  {
   "cell_type": "code",
   "execution_count": 31,
   "metadata": {
    "papermill": {
     "duration": 31.677827,
     "end_time": "2024-07-23T18:53:05.164639",
     "exception": false,
     "start_time": "2024-07-23T18:52:33.486812",
     "status": "completed"
    },
    "tags": []
   },
   "outputs": [],
   "source": [
    "key = \"steps\"\n",
    "\n",
    "combined_text = df_filtered['steps'].apply(lambda x: ' '.join(eval(x)))\n",
    "\n",
    "# Define feature extraction process for text data \n",
    "tfidf_vectorizer = TfidfVectorizer(stop_words='english')\n",
    "\n",
    "# Vectorize the text data\n",
    "vectors[key] = tfidf_vectorizer.fit_transform(combined_text)"
   ]
  },
  {
   "cell_type": "markdown",
   "metadata": {
    "papermill": {
     "duration": 0.019794,
     "end_time": "2024-07-23T18:53:05.204744",
     "exception": false,
     "start_time": "2024-07-23T18:53:05.18495",
     "status": "completed"
    },
    "tags": []
   },
   "source": [
    "## steps + ingredients"
   ]
  },
  {
   "cell_type": "code",
   "execution_count": 32,
   "metadata": {
    "papermill": {
     "duration": 41.712932,
     "end_time": "2024-07-23T18:53:46.938959",
     "exception": false,
     "start_time": "2024-07-23T18:53:05.226027",
     "status": "completed"
    },
    "tags": []
   },
   "outputs": [],
   "source": [
    "key = \"steps+ingredients\"\n",
    "\n",
    "combined_text = df_filtered['steps'].apply(lambda x: ' '.join(eval(x))) + ' ' + df_filtered['ingredients'].apply(lambda x: ' '.join(eval(x)))\n",
    "\n",
    "# Define feature extraction process for text data \n",
    "tfidf_vectorizer = TfidfVectorizer(stop_words='english')\n",
    "\n",
    "# Vectorize the text data\n",
    "vectors[key] = tfidf_vectorizer.fit_transform(combined_text)"
   ]
  },
  {
   "cell_type": "markdown",
   "metadata": {
    "papermill": {
     "duration": 0.019722,
     "end_time": "2024-07-23T18:53:46.979152",
     "exception": false,
     "start_time": "2024-07-23T18:53:46.95943",
     "status": "completed"
    },
    "tags": []
   },
   "source": [
    "## steps + ingredients + description"
   ]
  },
  {
   "cell_type": "code",
   "execution_count": 33,
   "metadata": {
    "papermill": {
     "duration": 50.026987,
     "end_time": "2024-07-23T18:54:37.026703",
     "exception": false,
     "start_time": "2024-07-23T18:53:46.999716",
     "status": "completed"
    },
    "tags": []
   },
   "outputs": [],
   "source": [
    "key = \"steps+ingredients+description\"\n",
    "\n",
    "combined_text = df_filtered['steps'].apply(lambda x: ' '.join(eval(x))) + ' ' + df_filtered['ingredients'].apply(lambda x: ' '.join(eval(x))) + ' ' + df_filtered['description']\n",
    "\n",
    "# Define feature extraction process for text data \n",
    "tfidf_vectorizer = TfidfVectorizer(stop_words='english')\n",
    "\n",
    "# Vectorize the text data\n",
    "vectors[key] = tfidf_vectorizer.fit_transform(combined_text)"
   ]
  },
  {
   "cell_type": "markdown",
   "metadata": {
    "papermill": {
     "duration": 0.019737,
     "end_time": "2024-07-23T18:54:37.066911",
     "exception": false,
     "start_time": "2024-07-23T18:54:37.047174",
     "status": "completed"
    },
    "tags": []
   },
   "source": [
    "## steps + ingredients + description + minutes"
   ]
  },
  {
   "cell_type": "code",
   "execution_count": 34,
   "metadata": {
    "papermill": {
     "duration": 51.885714,
     "end_time": "2024-07-23T18:55:28.972674",
     "exception": false,
     "start_time": "2024-07-23T18:54:37.08696",
     "status": "completed"
    },
    "tags": []
   },
   "outputs": [],
   "source": [
    "key = \"steps+ingredients+description+minutes\"\n",
    "\n",
    "combined_text = df_filtered['steps'].apply(lambda x: ' '.join(eval(x))) + ' ' + df_filtered['ingredients'].apply(lambda x: ' '.join(eval(x))) + ' ' + df_filtered['description']\n",
    "minutes = df_filtered['minutes']\n",
    "\n",
    "# Create a new dataframe with the necessary features\n",
    "df_tmp = pd.DataFrame({\n",
    "    'combined_text': combined_text,\n",
    "    'minutes': minutes\n",
    "})\n",
    "\n",
    "# Define feature extraction process for both text and numerical data\n",
    "tfidf_vectorizer = TfidfVectorizer(stop_words='english')\n",
    "scaler = StandardScaler()\n",
    "\n",
    "# Create a column transformer to handle different types of data\n",
    "preprocessor = ColumnTransformer(\n",
    "    transformers=[\n",
    "        ('text', tfidf_vectorizer, 'combined_text'),\n",
    "        ('numeric', make_pipeline(SimpleImputer(strategy='mean'), scaler), ['minutes'])\n",
    "    ]\n",
    ")\n",
    "\n",
    "# Apply the transformation\n",
    "vectors[key] = preprocessor.fit_transform(df_tmp)"
   ]
  },
  {
   "cell_type": "markdown",
   "metadata": {
    "papermill": {
     "duration": 0.020703,
     "end_time": "2024-07-23T18:55:29.014632",
     "exception": false,
     "start_time": "2024-07-23T18:55:28.993929",
     "status": "completed"
    },
    "tags": []
   },
   "source": [
    "## steps + ingredients + description + minutes+ calories"
   ]
  },
  {
   "cell_type": "code",
   "execution_count": 35,
   "metadata": {
    "papermill": {
     "duration": 51.645357,
     "end_time": "2024-07-23T18:56:20.679898",
     "exception": false,
     "start_time": "2024-07-23T18:55:29.034541",
     "status": "completed"
    },
    "tags": []
   },
   "outputs": [],
   "source": [
    "key = \"steps+ingredients+description+minutes+calories\"\n",
    "\n",
    "combined_text = df_filtered['steps'].apply(lambda x: ' '.join(eval(x))) + ' ' + df_filtered['ingredients'].apply(lambda x: ' '.join(eval(x))) + ' ' + df_filtered['description']\n",
    "minutes = df_filtered['minutes']\n",
    "calories = df_filtered['calories']\n",
    "\n",
    "# Create a new dataframe with the necessary features\n",
    "df_tmp = pd.DataFrame({\n",
    "    'combined_text': combined_text,\n",
    "    'minutes': minutes,\n",
    "    'calories': calories\n",
    "})\n",
    "\n",
    "# Define feature extraction process for both text and numerical data\n",
    "tfidf_vectorizer = TfidfVectorizer(stop_words='english')\n",
    "scaler = StandardScaler()\n",
    "\n",
    "# Create a column transformer to handle different types of data\n",
    "preprocessor = ColumnTransformer(\n",
    "    transformers=[\n",
    "        ('text', tfidf_vectorizer, 'combined_text'),\n",
    "        ('numeric', make_pipeline(SimpleImputer(strategy='mean'), scaler), ['minutes', 'calories'])\n",
    "    ]\n",
    ")\n",
    "\n",
    "# Apply the transformation\n",
    "vectors[key] = preprocessor.fit_transform(df_tmp)"
   ]
  },
  {
   "cell_type": "code",
   "execution_count": 43,
   "metadata": {},
   "outputs": [
    {
     "name": "stdout",
     "output_type": "stream",
     "text": [
      "  (0, 32126)\t0.031210289959875993\n",
      "  (0, 12207)\t0.05574172044865993\n",
      "  (0, 4976)\t0.040292608307042406\n",
      "  (0, 15730)\t0.06282171023416183\n",
      "  (0, 3673)\t0.08669007515754014\n",
      "  (0, 10714)\t0.03837291205007312\n",
      "  (0, 9771)\t0.15571768795925042\n",
      "  (0, 14997)\t0.10663059207177504\n",
      "  (0, 36501)\t0.03851746134179801\n",
      "  (0, 40062)\t0.05592784240690058\n",
      "  (0, 26029)\t0.15571768795925042\n",
      "  (0, 14330)\t0.12397972473004534\n",
      "  (0, 7243)\t0.08827062432127583\n",
      "  (0, 7875)\t0.08734178642853913\n",
      "  (0, 34115)\t0.07881838616393007\n",
      "  (0, 27883)\t0.10904188868885271\n",
      "  (0, 13602)\t0.08785956312178377\n",
      "  (0, 15892)\t0.06499309819096762\n",
      "  (0, 18808)\t0.10798202121564236\n",
      "  (0, 23878)\t0.022943985366550127\n",
      "  (0, 1757)\t0.06707974484301628\n",
      "  (0, 11975)\t0.046486200843458794\n",
      "  (0, 1498)\t0.04856662472709571\n",
      "  (0, 4950)\t0.03314677678224311\n",
      "  (0, 35115)\t0.08643646670894375\n",
      "  :\t:\n",
      "  (222933, 5015)\t0.29927332219854813\n",
      "  (222933, 41176)\t0.30624129131925726\n",
      "  (222933, 20899)\t0.30039461546292645\n",
      "  (222933, 33615)\t0.3188916733560065\n",
      "  (222933, 10356)\t0.2447481513798159\n",
      "  (222933, 30841)\t0.15970651303166367\n",
      "  (222933, 25)\t0.15673499949409578\n",
      "  (222933, 31625)\t0.21731737412689858\n",
      "  (222933, 33436)\t0.20510767940775115\n",
      "  (222933, 5384)\t0.19445015235246763\n",
      "  (222933, 28172)\t0.12720986267881362\n",
      "  (222933, 19589)\t0.1389165035633725\n",
      "  (222933, 3046)\t0.18143281625960217\n",
      "  (222933, 21276)\t0.12785375241510383\n",
      "  (222933, 6507)\t0.11862910963005296\n",
      "  (222933, 13764)\t0.1891907555615411\n",
      "  (222933, 212)\t0.2255958455453615\n",
      "  (222933, 13094)\t0.226369601959044\n",
      "  (222933, 36501)\t0.14503785510998785\n",
      "  (222933, 23878)\t0.08639578802220299\n",
      "  (222933, 11975)\t0.1750442170297156\n",
      "  (222933, 1498)\t0.18287807230705835\n",
      "  (222933, 4950)\t0.12481449298137126\n",
      "  (222933, 23992)\t0.12182245639820694\n",
      "  (222933, 11508)\t0.16700492389243263\n"
     ]
    }
   ],
   "source": [
    "print(vectors[\"steps\"])"
   ]
  },
  {
   "cell_type": "code",
   "execution_count": null,
   "metadata": {},
   "outputs": [],
   "source": []
  }
 ],
 "metadata": {
  "kaggle": {
   "accelerator": "none",
   "dataSources": [
    {
     "datasetId": 311962,
     "sourceId": 783630,
     "sourceType": "datasetVersion"
    }
   ],
   "dockerImageVersionId": 30746,
   "isGpuEnabled": false,
   "isInternetEnabled": false,
   "language": "python",
   "sourceType": "notebook"
  },
  "kernelspec": {
   "display_name": "Python 3 (ipykernel)",
   "language": "python",
   "name": "python3"
  },
  "language_info": {
   "codemirror_mode": {
    "name": "ipython",
    "version": 3
   },
   "file_extension": ".py",
   "mimetype": "text/x-python",
   "name": "python",
   "nbconvert_exporter": "python",
   "pygments_lexer": "ipython3",
   "version": "3.12.3"
  },
  "papermill": {
   "default_parameters": {},
   "duration": 274.629641,
   "end_time": "2024-07-23T18:56:26.458294",
   "environment_variables": {},
   "exception": null,
   "input_path": "__notebook__.ipynb",
   "output_path": "__notebook__.ipynb",
   "parameters": {},
   "start_time": "2024-07-23T18:51:51.828653",
   "version": "2.5.0"
  }
 },
 "nbformat": 4,
 "nbformat_minor": 4
}
