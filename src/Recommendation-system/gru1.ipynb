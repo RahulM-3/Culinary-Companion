{
 "cells": [
  {
   "cell_type": "markdown",
   "id": "6a754f70-56dc-4d3f-8a42-1f7b0772b033",
   "metadata": {},
   "source": [
    "# Library Import and Set-Up"
   ]
  },
  {
   "cell_type": "code",
   "execution_count": 44,
   "id": "db1707d7-5f9f-43b6-a2fb-562288b392be",
   "metadata": {},
   "outputs": [
    {
     "name": "stdout",
     "output_type": "stream",
     "text": [
      "Available GPUs:  NVIDIA GeForce RTX 3060\n"
     ]
    },
    {
     "name": "stderr",
     "output_type": "stream",
     "text": [
      "I0000 00:00:1725337295.124566    3414 cuda_executor.cc:1001] could not open file to read NUMA node: /sys/bus/pci/devices/0000:01:00.0/numa_node\n",
      "Your kernel may have been built without NUMA support.\n",
      "I0000 00:00:1725337295.125502    3414 cuda_executor.cc:1001] could not open file to read NUMA node: /sys/bus/pci/devices/0000:01:00.0/numa_node\n",
      "Your kernel may have been built without NUMA support.\n",
      "I0000 00:00:1725337295.125530    3414 cuda_executor.cc:1001] could not open file to read NUMA node: /sys/bus/pci/devices/0000:01:00.0/numa_node\n",
      "Your kernel may have been built without NUMA support.\n",
      "I0000 00:00:1725337295.125544    3414 cuda_executor.cc:1001] could not open file to read NUMA node: /sys/bus/pci/devices/0000:01:00.0/numa_node\n",
      "Your kernel may have been built without NUMA support.\n",
      "I0000 00:00:1725337295.125697    3414 cuda_executor.cc:1001] could not open file to read NUMA node: /sys/bus/pci/devices/0000:01:00.0/numa_node\n",
      "Your kernel may have been built without NUMA support.\n",
      "2024-09-03 09:51:35.125710: I tensorflow/core/common_runtime/gpu/gpu_device.cc:2112] Could not identify NUMA node of platform GPU id 0, defaulting to 0.  Your kernel may not have been built with NUMA support.\n",
      "I0000 00:00:1725337295.125746    3414 cuda_executor.cc:1001] could not open file to read NUMA node: /sys/bus/pci/devices/0000:01:00.0/numa_node\n",
      "Your kernel may have been built without NUMA support.\n",
      "2024-09-03 09:51:35.125766: I tensorflow/core/common_runtime/gpu/gpu_device.cc:2021] Created device /job:localhost/replica:0/task:0/device:GPU:0 with 7372 MB memory:  -> device: 0, name: NVIDIA GeForce RTX 3060, pci bus id: 0000:01:00.0, compute capability: 8.6\n"
     ]
    }
   ],
   "source": [
    "import numpy as np\n",
    "import pandas as pd\n",
    "from pickle import dump\n",
    "import tensorflow as tf\n",
    "import matplotlib.pyplot as plt\n",
    "import tensorflow.keras.utils as ku\n",
    "from tensorflow.keras import Sequential\n",
    "from tensorflow.keras.utils import pad_sequences\n",
    "from tensorflow.keras.layers import Embedding, GRU, Dense\n",
    "from tensorflow.keras.preprocessing.text import Tokenizer\n",
    "\n",
    "\n",
    "tf.config.run_functions_eagerly(True)\n",
    "gpu_devices = tf.config.list_physical_devices('GPU')\n",
    "details = tf.config.experimental.get_device_details(gpu_devices[0])\n",
    "print(\"Available GPUs: \", details.get('device_name'))\n",
    "gpu_options = tf.compat.v1.GPUOptions(per_process_gpu_memory_fraction=0.6)\n",
    "sess = tf.compat.v1.Session(config=tf.compat.v1.ConfigProto(gpu_options=gpu_options))"
   ]
  },
  {
   "cell_type": "markdown",
   "id": "269bbe28-41b9-49f9-aa79-1961227fba44",
   "metadata": {},
   "source": [
    "# Load Dataset"
   ]
  },
  {
   "cell_type": "code",
   "execution_count": 2,
   "id": "f049ccb3-1632-41fe-9ace-7ddf6992700d",
   "metadata": {},
   "outputs": [],
   "source": [
    "rawdataset = pd.read_csv(\"./dataset/full_dataset.csv\")"
   ]
  },
  {
   "cell_type": "code",
   "execution_count": 35,
   "id": "36b3e236-57c6-463a-82b6-2320caaace49",
   "metadata": {},
   "outputs": [
    {
     "name": "stdout",
     "output_type": "stream",
     "text": [
      "Dataset shape: (2231142, 7)\n"
     ]
    }
   ],
   "source": [
    "print(\"Dataset shape:\", rawdataset.shape)"
   ]
  },
  {
   "cell_type": "code",
   "execution_count": 3,
   "id": "d3f94693-80a1-4122-96d3-7e7d4b8e307e",
   "metadata": {},
   "outputs": [],
   "source": [
    "dataset = rawdataset[:1800]\n",
    "dataset = dataset.drop([\"link\", \"source\"], axis=1)"
   ]
  },
  {
   "cell_type": "code",
   "execution_count": 4,
   "id": "f6d74027-e70f-4142-b661-8f743f47ba78",
   "metadata": {},
   "outputs": [
    {
     "name": "stdout",
     "output_type": "stream",
     "text": [
      "Data shape: (1800, 5)\n"
     ]
    },
    {
     "data": {
      "text/html": [
       "<div>\n",
       "<style scoped>\n",
       "    .dataframe tbody tr th:only-of-type {\n",
       "        vertical-align: middle;\n",
       "    }\n",
       "\n",
       "    .dataframe tbody tr th {\n",
       "        vertical-align: top;\n",
       "    }\n",
       "\n",
       "    .dataframe thead th {\n",
       "        text-align: right;\n",
       "    }\n",
       "</style>\n",
       "<table border=\"1\" class=\"dataframe\">\n",
       "  <thead>\n",
       "    <tr style=\"text-align: right;\">\n",
       "      <th></th>\n",
       "      <th>Unnamed: 0</th>\n",
       "      <th>title</th>\n",
       "      <th>ingredients</th>\n",
       "      <th>directions</th>\n",
       "      <th>NER</th>\n",
       "    </tr>\n",
       "  </thead>\n",
       "  <tbody>\n",
       "    <tr>\n",
       "      <th>0</th>\n",
       "      <td>0</td>\n",
       "      <td>No-Bake Nut Cookies</td>\n",
       "      <td>[\"1 c. firmly packed brown sugar\", \"1/2 c. eva...</td>\n",
       "      <td>[\"In a heavy 2-quart saucepan, mix brown sugar...</td>\n",
       "      <td>[\"brown sugar\", \"milk\", \"vanilla\", \"nuts\", \"bu...</td>\n",
       "    </tr>\n",
       "    <tr>\n",
       "      <th>1</th>\n",
       "      <td>1</td>\n",
       "      <td>Jewell Ball'S Chicken</td>\n",
       "      <td>[\"1 small jar chipped beef, cut up\", \"4 boned ...</td>\n",
       "      <td>[\"Place chipped beef on bottom of baking dish....</td>\n",
       "      <td>[\"beef\", \"chicken breasts\", \"cream of mushroom...</td>\n",
       "    </tr>\n",
       "    <tr>\n",
       "      <th>2</th>\n",
       "      <td>2</td>\n",
       "      <td>Creamy Corn</td>\n",
       "      <td>[\"2 (16 oz.) pkg. frozen corn\", \"1 (8 oz.) pkg...</td>\n",
       "      <td>[\"In a slow cooker, combine all ingredients. C...</td>\n",
       "      <td>[\"frozen corn\", \"cream cheese\", \"butter\", \"gar...</td>\n",
       "    </tr>\n",
       "    <tr>\n",
       "      <th>3</th>\n",
       "      <td>3</td>\n",
       "      <td>Chicken Funny</td>\n",
       "      <td>[\"1 large whole chicken\", \"2 (10 1/2 oz.) cans...</td>\n",
       "      <td>[\"Boil and debone chicken.\", \"Put bite size pi...</td>\n",
       "      <td>[\"chicken\", \"chicken gravy\", \"cream of mushroo...</td>\n",
       "    </tr>\n",
       "    <tr>\n",
       "      <th>4</th>\n",
       "      <td>4</td>\n",
       "      <td>Reeses Cups(Candy)</td>\n",
       "      <td>[\"1 c. peanut butter\", \"3/4 c. graham cracker ...</td>\n",
       "      <td>[\"Combine first four ingredients and press in ...</td>\n",
       "      <td>[\"peanut butter\", \"graham cracker crumbs\", \"bu...</td>\n",
       "    </tr>\n",
       "  </tbody>\n",
       "</table>\n",
       "</div>"
      ],
      "text/plain": [
       "   Unnamed: 0                  title  \\\n",
       "0           0    No-Bake Nut Cookies   \n",
       "1           1  Jewell Ball'S Chicken   \n",
       "2           2            Creamy Corn   \n",
       "3           3          Chicken Funny   \n",
       "4           4   Reeses Cups(Candy)     \n",
       "\n",
       "                                         ingredients  \\\n",
       "0  [\"1 c. firmly packed brown sugar\", \"1/2 c. eva...   \n",
       "1  [\"1 small jar chipped beef, cut up\", \"4 boned ...   \n",
       "2  [\"2 (16 oz.) pkg. frozen corn\", \"1 (8 oz.) pkg...   \n",
       "3  [\"1 large whole chicken\", \"2 (10 1/2 oz.) cans...   \n",
       "4  [\"1 c. peanut butter\", \"3/4 c. graham cracker ...   \n",
       "\n",
       "                                          directions  \\\n",
       "0  [\"In a heavy 2-quart saucepan, mix brown sugar...   \n",
       "1  [\"Place chipped beef on bottom of baking dish....   \n",
       "2  [\"In a slow cooker, combine all ingredients. C...   \n",
       "3  [\"Boil and debone chicken.\", \"Put bite size pi...   \n",
       "4  [\"Combine first four ingredients and press in ...   \n",
       "\n",
       "                                                 NER  \n",
       "0  [\"brown sugar\", \"milk\", \"vanilla\", \"nuts\", \"bu...  \n",
       "1  [\"beef\", \"chicken breasts\", \"cream of mushroom...  \n",
       "2  [\"frozen corn\", \"cream cheese\", \"butter\", \"gar...  \n",
       "3  [\"chicken\", \"chicken gravy\", \"cream of mushroo...  \n",
       "4  [\"peanut butter\", \"graham cracker crumbs\", \"bu...  "
      ]
     },
     "execution_count": 4,
     "metadata": {},
     "output_type": "execute_result"
    }
   ],
   "source": [
    "print(\"Data shape:\", dataset.shape)\n",
    "dataset.head()"
   ]
  },
  {
   "cell_type": "markdown",
   "id": "4df4478e-3ffc-419d-ace2-25d22c54b365",
   "metadata": {},
   "source": [
    "# Pre-Processing the Data"
   ]
  },
  {
   "cell_type": "code",
   "execution_count": 5,
   "id": "57c35c8f-3375-4b7f-aef8-ff31ae4d53dd",
   "metadata": {},
   "outputs": [],
   "source": [
    "def clean_text(txt):\n",
    "    txt = \"\".join(v for v in txt if v not in '!\"#$%&*+:;<=>?@[\\]^_`{}~').lower()\n",
    "    return txt\n",
    "\n",
    "title = [clean_text(x) for x in dataset.title]\n",
    "NER = [clean_text(x) for x in dataset.NER]\n",
    "ingredients = [clean_text(x) for x in dataset.ingredients]\n",
    "directions = [clean_text(x) for x in dataset.directions]"
   ]
  },
  {
   "cell_type": "markdown",
   "id": "39d34b57-1e10-46ad-b041-1a4eaccdbf79",
   "metadata": {},
   "source": [
    "#### Combining ner, title, ingredients and directions data into a single string"
   ]
  },
  {
   "cell_type": "code",
   "execution_count": 6,
   "id": "d69bdebe-fbff-4426-a06c-9700216fe946",
   "metadata": {},
   "outputs": [
    {
     "name": "stdout",
     "output_type": "stream",
     "text": [
      "max_length: 1362\n",
      "\n",
      "Recipe at index 0:\n",
      " brown sugar, milk, vanilla, nuts, butter, bite size shredded rice biscuits | no-bake nut cookies | 1 c. firmly packed brown sugar, 1/2 c. evaporated milk, 1/2 tsp. vanilla, 1/2 c. broken nuts (pecans), 2 tbsp. butter or margarine, 3 1/2 c. bite size shredded rice biscuits | in a heavy 2-quart saucepan, mix brown sugar, nuts, evaporated milk and butter or margarine., stir over medium heat until mixture bubbles all over top., boil and stir 5 minutes more. take off heat., stir in vanilla and cereal mix well., using 2 teaspoons, drop and shape into 30 clusters on wax paper., let stand until firm, about 30 minutes. ~ \n"
     ]
    }
   ],
   "source": [
    "finaldataset = []\n",
    "for i in range(len(NER)):\n",
    "    finaldataset.append(NER[i]+\" | \"+title[i]+\" | \"+ingredients[i]+\" | \"+directions[i]+ \" ~ \")\n",
    "max_length = 0\n",
    "for i in finaldataset:\n",
    "    max_length = max(max_length, len(i))\n",
    "print(\"max_length:\", max_length)\n",
    "print()\n",
    "print(\"Recipe at index 0:\\n\", finaldataset[0])"
   ]
  },
  {
   "cell_type": "markdown",
   "id": "8dc721de-c618-4345-be9a-2afe3298c197",
   "metadata": {},
   "source": [
    "# Tokenizing the final dataset"
   ]
  },
  {
   "cell_type": "markdown",
   "id": "b557601d-c650-443b-be4f-b707bd5e0f20",
   "metadata": {},
   "source": [
    "#### Creating Tokens"
   ]
  },
  {
   "cell_type": "code",
   "execution_count": 7,
   "id": "4ad03640-bd37-4316-84f0-b91d898f9961",
   "metadata": {},
   "outputs": [
    {
     "name": "stdout",
     "output_type": "stream",
     "text": [
      "Total words: 7144\n",
      "['pineapple condensed milk lemons pecans graham cracker crusts']\n",
      "[[182, 226, 91, 2790, 266, 191, 209, 1668]]\n"
     ]
    }
   ],
   "source": [
    "tokenizer = Tokenizer(\n",
    "    char_level=False,\n",
    "    filters='',\n",
    "    lower=False,\n",
    "    split=' '\n",
    ")\n",
    "tokenizer.fit_on_texts(finaldataset)\n",
    "tokenizer.fit_on_texts([\"~\"])\n",
    "\n",
    "vocab_size = len(tokenizer.word_index) + 1\n",
    "print(\"Total words:\", vocab_size)\n",
    "\n",
    "text = [\"pineapple condensed milk lemons pecans graham cracker crusts\"]\n",
    "token_list = tokenizer.texts_to_sequences(text)\n",
    "print(text)\n",
    "print(token_list)"
   ]
  },
  {
   "cell_type": "code",
   "execution_count": 8,
   "id": "b4ae21f5-fb6b-4a9e-9dd5-65da7960910d",
   "metadata": {},
   "outputs": [
    {
     "name": "stdout",
     "output_type": "stream",
     "text": [
      "words and token:\n"
     ]
    },
    {
     "data": {
      "text/plain": [
       "[('cinnamon,', 101),\n",
       " ('garlic', 102),\n",
       " ('cool', 103),\n",
       " ('sprinkle', 104),\n",
       " ('onions,', 105),\n",
       " ('put', 106),\n",
       " ('egg', 107),\n",
       " ('5', 108),\n",
       " ('beef,', 109),\n",
       " ('together', 110)]"
      ]
     },
     "execution_count": 8,
     "metadata": {},
     "output_type": "execute_result"
    }
   ],
   "source": [
    "print(\"words and token:\")\n",
    "list(tokenizer.word_index.items())[100:110]"
   ]
  },
  {
   "cell_type": "markdown",
   "id": "62b2aca9-9a44-4d0d-87b2-6ac3c88bd37c",
   "metadata": {},
   "source": [
    "#### Vectorizing the dataset"
   ]
  },
  {
   "cell_type": "code",
   "execution_count": 9,
   "id": "992ff9e5-348b-4911-b63d-afc80a5857bb",
   "metadata": {},
   "outputs": [
    {
     "name": "stdout",
     "output_type": "stream",
     "text": [
      "[135, 206, 23, 30, 35, 102, 56, 14, 79, 2, 1043, 137, 2, 7, 331, 42, 54, 135, 206, 1, 159, 42, 54, 23, 30, 848, 139, 4, 35, 848, 6, 8, 102, 56, 6, 8, 14, 28, 8, 79, 2, 5, 17, 2174, 2977, 65, 77, 614, 122, 3, 57, 40, 237, 18, 43, 330, 21, 16, 805, 849, 3, 44, 127, 1364, 55, 152, 214, 550, 495, 80, 279, 10]\n",
      "\n",
      "['frozen corn, cream cheese, butter, garlic powder, salt, pepper | creamy corn | 2 (16 oz.) pkg. frozen corn, 1 (8 oz.) pkg. cream cheese, cubed, 1/3 c. butter, cubed, 1/2 tsp. garlic powder, 1/2 tsp. salt, 1/4 tsp. pepper | in a slow cooker, combine all ingredients. cover and cook on low for 4 hours or until heated through and cheese is melted. stir well before serving. yields 6 servings. ~']\n"
     ]
    }
   ],
   "source": [
    "finaldataset_token = tokenizer.texts_to_sequences(finaldataset)\n",
    "print(finaldataset_token[2])\n",
    "print()\n",
    "print(tokenizer.sequences_to_texts([finaldataset_token[2]]))"
   ]
  },
  {
   "cell_type": "markdown",
   "id": "4c9f9ff2-8c7b-49d1-8cce-fec6806590ad",
   "metadata": {},
   "source": [
    "# Creating N-gram sequences"
   ]
  },
  {
   "cell_type": "code",
   "execution_count": 10,
   "id": "2c22fcbf-572f-4f6c-8ada-e31e9cc282c1",
   "metadata": {},
   "outputs": [],
   "source": [
    "input_sequences = []\n",
    "for line in finaldataset:\n",
    "    token_list = tokenizer.texts_to_sequences([line])[0]\n",
    "    for i in range(1, len(token_list)):\n",
    "        n_gram_sequence = token_list[:i+1]\n",
    "        input_sequences.append(n_gram_sequence)"
   ]
  },
  {
   "cell_type": "code",
   "execution_count": 11,
   "id": "4f180fec-79df-43ed-b75d-4e5b1da73664",
   "metadata": {},
   "outputs": [
    {
     "name": "stdout",
     "output_type": "stream",
     "text": [
      "[52, 11] ['brown sugar,']\n",
      "[52, 11, 36] ['brown sugar, milk,']\n",
      "[52, 11, 36, 68] ['brown sugar, milk, vanilla,']\n",
      "[52, 11, 36, 68, 187] ['brown sugar, milk, vanilla, nuts,']\n",
      "[52, 11, 36, 68, 187, 35] ['brown sugar, milk, vanilla, nuts, butter,']\n",
      "[52, 11, 36, 68, 187, 35, 934] ['brown sugar, milk, vanilla, nuts, butter, bite']\n",
      "[52, 11, 36, 68, 187, 35, 934, 491] ['brown sugar, milk, vanilla, nuts, butter, bite size']\n",
      "[52, 11, 36, 68, 187, 35, 934, 491, 179] ['brown sugar, milk, vanilla, nuts, butter, bite size shredded']\n",
      "[52, 11, 36, 68, 187, 35, 934, 491, 179, 197] ['brown sugar, milk, vanilla, nuts, butter, bite size shredded rice']\n",
      "[52, 11, 36, 68, 187, 35, 934, 491, 179, 197, 653] ['brown sugar, milk, vanilla, nuts, butter, bite size shredded rice biscuits']\n"
     ]
    }
   ],
   "source": [
    "for i in input_sequences[0:10]:\n",
    "    print(i, tokenizer.sequences_to_texts([i]))"
   ]
  },
  {
   "cell_type": "code",
   "execution_count": 12,
   "id": "9ce14ef5-b135-4779-9733-ec0e883c7989",
   "metadata": {},
   "outputs": [
    {
     "name": "stdout",
     "output_type": "stream",
     "text": [
      "Input Sequences Length: 162958\n",
      "Max sequences Length: 232\n"
     ]
    }
   ],
   "source": [
    "max_seq_len = max(len(x) for x in input_sequences)\n",
    "print(\"Input Sequences Length:\", len(input_sequences))\n",
    "print(\"Max sequences Length:\", max_seq_len)"
   ]
  },
  {
   "cell_type": "markdown",
   "id": "e1d0228a-b1d2-4c2d-b5fb-72ac87bf3a9c",
   "metadata": {},
   "source": [
    "# Padding the sequences with 0"
   ]
  },
  {
   "cell_type": "code",
   "execution_count": 13,
   "id": "e0592da0-1605-46fd-98ba-2afb30fbbcb1",
   "metadata": {},
   "outputs": [
    {
     "name": "stdout",
     "output_type": "stream",
     "text": [
      "Before padding\n",
      "[52, 11, 36, 68, 187] 5\n"
     ]
    }
   ],
   "source": [
    "print(\"Before padding\")\n",
    "print(input_sequences[3], len(input_sequences[3]))"
   ]
  },
  {
   "cell_type": "code",
   "execution_count": 14,
   "id": "1654bc46-b202-4413-a1b0-60a13eeecc6d",
   "metadata": {},
   "outputs": [],
   "source": [
    "input_sequences = np.array(pad_sequences(input_sequences, maxlen=max_seq_len, padding = 'pre'))"
   ]
  },
  {
   "cell_type": "code",
   "execution_count": 15,
   "id": "377ec704-0b81-4561-b0d1-89c94bf58ad1",
   "metadata": {},
   "outputs": [
    {
     "name": "stdout",
     "output_type": "stream",
     "text": [
      "After padding\n",
      "[  0   0   0   0   0   0   0   0   0   0   0   0   0   0   0   0   0   0\n",
      "   0   0   0   0   0   0   0   0   0   0   0   0   0   0   0   0   0   0\n",
      "   0   0   0   0   0   0   0   0   0   0   0   0   0   0   0   0   0   0\n",
      "   0   0   0   0   0   0   0   0   0   0   0   0   0   0   0   0   0   0\n",
      "   0   0   0   0   0   0   0   0   0   0   0   0   0   0   0   0   0   0\n",
      "   0   0   0   0   0   0   0   0   0   0   0   0   0   0   0   0   0   0\n",
      "   0   0   0   0   0   0   0   0   0   0   0   0   0   0   0   0   0   0\n",
      "   0   0   0   0   0   0   0   0   0   0   0   0   0   0   0   0   0   0\n",
      "   0   0   0   0   0   0   0   0   0   0   0   0   0   0   0   0   0   0\n",
      "   0   0   0   0   0   0   0   0   0   0   0   0   0   0   0   0   0   0\n",
      "   0   0   0   0   0   0   0   0   0   0   0   0   0   0   0   0   0   0\n",
      "   0   0   0   0   0   0   0   0   0   0   0   0   0   0   0   0   0   0\n",
      "   0   0   0   0   0   0   0   0   0   0   0  52  11  36  68 187] 232\n"
     ]
    }
   ],
   "source": [
    "print(\"After padding\")\n",
    "print(input_sequences[3], len(input_sequences[3]))"
   ]
  },
  {
   "cell_type": "markdown",
   "id": "5ebd8877-9a58-4bd8-8604-038891ca58ef",
   "metadata": {},
   "source": [
    "# Spliting Predictor and Predictand"
   ]
  },
  {
   "cell_type": "code",
   "execution_count": 16,
   "id": "4c2c4db4-b711-4270-ae55-ec658d683dbf",
   "metadata": {},
   "outputs": [],
   "source": [
    "features, labels = input_sequences[:, :-1], input_sequences[:, -1]"
   ]
  },
  {
   "cell_type": "code",
   "execution_count": 17,
   "id": "460d9246-eb34-46f5-a6d0-f8f8d644f753",
   "metadata": {},
   "outputs": [
    {
     "name": "stdout",
     "output_type": "stream",
     "text": [
      "Features Shape: (162958, 231)\n",
      "Labels Shape: (162958,)\n",
      "\n",
      "Data at index 3\n",
      "Features: ['brown sugar, milk, vanilla,']\n",
      "Labels: ['nuts,']\n"
     ]
    }
   ],
   "source": [
    "print(\"Features Shape:\", features.shape)\n",
    "print(\"Labels Shape:\", labels.shape)\n",
    "print()\n",
    "print(\"Data at index 3\")\n",
    "print(\"Features:\", tokenizer.sequences_to_texts([features[3]]))\n",
    "print(\"Labels:\", tokenizer.sequences_to_texts([[labels[3]]]))"
   ]
  },
  {
   "cell_type": "code",
   "execution_count": 18,
   "id": "216a4ea1-0637-4c5c-8764-e0288659f67b",
   "metadata": {},
   "outputs": [
    {
     "name": "stdout",
     "output_type": "stream",
     "text": [
      "dataset size in disk\n",
      "Features: 0.150573192\n",
      "Labels: 0.000651832\n"
     ]
    }
   ],
   "source": [
    "print(\"dataset size in disk\")\n",
    "print(\"Features:\", features.nbytes/1e+9)\n",
    "print(\"Labels:\", labels.nbytes/1e+9)"
   ]
  },
  {
   "cell_type": "code",
   "execution_count": 19,
   "id": "c22a9db4-8868-4448-b348-226e5052402f",
   "metadata": {},
   "outputs": [],
   "source": [
    "labels = tf.keras.utils.to_categorical(labels, num_classes=vocab_size)"
   ]
  },
  {
   "cell_type": "code",
   "execution_count": 20,
   "id": "968d7d13-33ce-42f6-b567-5683937cef41",
   "metadata": {},
   "outputs": [
    {
     "name": "stdout",
     "output_type": "stream",
     "text": [
      "dataset size in disk\n",
      "Labels: 9.313375616\n",
      "Labels Shape: (162958, 7144)\n"
     ]
    }
   ],
   "source": [
    "print(\"dataset size in disk\")\n",
    "print(\"Labels:\", labels.nbytes/1e+9)\n",
    "print(\"Labels Shape:\", labels.shape)"
   ]
  },
  {
   "cell_type": "markdown",
   "id": "c8e9cbcc-9b0f-4ff1-859e-79752063c305",
   "metadata": {},
   "source": [
    "#### Reducing dataset size"
   ]
  },
  {
   "cell_type": "code",
   "execution_count": 21,
   "id": "8d455201-466b-4bd4-a385-7177a21524d1",
   "metadata": {},
   "outputs": [
    {
     "name": "stdout",
     "output_type": "stream",
     "text": [
      "Slice size: 16295\n"
     ]
    }
   ],
   "source": [
    "n = 10\n",
    "slice_size = int(len(features)/n)\n",
    "print(\"Slice size:\", slice_size)"
   ]
  },
  {
   "cell_type": "code",
   "execution_count": 22,
   "id": "128ed455-932b-4dc4-8b9e-bc89f4fee020",
   "metadata": {},
   "outputs": [],
   "source": [
    "features = features[:slice_size, :]\n",
    "labels = labels[:slice_size]"
   ]
  },
  {
   "cell_type": "code",
   "execution_count": 23,
   "id": "14d9c3bf-fdfd-453c-aa10-f3034360ca86",
   "metadata": {},
   "outputs": [
    {
     "name": "stdout",
     "output_type": "stream",
     "text": [
      "Features Shape: (16295, 231)\n",
      "Labels Shape: (16295, 7144)\n",
      "dataset size in disk\n",
      "Features: 0.01505658\n",
      "Labels: 0.93129184\n"
     ]
    }
   ],
   "source": [
    "print(\"Features Shape:\", features.shape)\n",
    "print(\"Labels Shape:\", labels.shape)\n",
    "print(\"dataset size in disk\")\n",
    "print(\"Features:\", features.nbytes/1e+9)\n",
    "print(\"Labels:\", labels.nbytes/1e+9)"
   ]
  },
  {
   "cell_type": "markdown",
   "id": "7c551656-8fcd-4a95-bb2f-6ef97b343c47",
   "metadata": {},
   "source": [
    "# Model Training"
   ]
  },
  {
   "cell_type": "code",
   "execution_count": 24,
   "id": "284eb309-d70c-488a-b967-c602b2243e51",
   "metadata": {},
   "outputs": [],
   "source": [
    "def generator_model():\n",
    "    model = Sequential([\n",
    "    Embedding(vocab_size, 256, input_length=max_seq_len),\n",
    "    GRU(126),\n",
    "    Dense(vocab_size, activation='softmax')\n",
    "    ])\n",
    "    model.compile(loss = 'categorical_crossentropy', \n",
    "              optimizer = tf.keras.optimizers.Adam(learning_rate = 0.002),\n",
    "              metrics = ['accuracy'])\n",
    "    return model"
   ]
  },
  {
   "cell_type": "code",
   "execution_count": 25,
   "id": "84878a46-e495-4061-8fea-6a7fcc6b08c9",
   "metadata": {},
   "outputs": [
    {
     "name": "stderr",
     "output_type": "stream",
     "text": [
      "/home/rahul/.local/lib/python3.10/site-packages/keras/src/layers/core/embedding.py:90: UserWarning: Argument `input_length` is deprecated. Just remove it.\n",
      "  warnings.warn(\n",
      "I0000 00:00:1725336666.639841    3414 cuda_executor.cc:1001] could not open file to read NUMA node: /sys/bus/pci/devices/0000:01:00.0/numa_node\n",
      "Your kernel may have been built without NUMA support.\n",
      "I0000 00:00:1725336666.640090    3414 cuda_executor.cc:1001] could not open file to read NUMA node: /sys/bus/pci/devices/0000:01:00.0/numa_node\n",
      "Your kernel may have been built without NUMA support.\n",
      "I0000 00:00:1725336666.640179    3414 cuda_executor.cc:1001] could not open file to read NUMA node: /sys/bus/pci/devices/0000:01:00.0/numa_node\n",
      "Your kernel may have been built without NUMA support.\n",
      "I0000 00:00:1725336666.640546    3414 cuda_executor.cc:1001] could not open file to read NUMA node: /sys/bus/pci/devices/0000:01:00.0/numa_node\n",
      "Your kernel may have been built without NUMA support.\n",
      "2024-09-03 09:41:06.640582: I tensorflow/core/common_runtime/gpu/gpu_device.cc:2112] Could not identify NUMA node of platform GPU id 0, defaulting to 0.  Your kernel may not have been built with NUMA support.\n",
      "I0000 00:00:1725336666.640652    3414 cuda_executor.cc:1001] could not open file to read NUMA node: /sys/bus/pci/devices/0000:01:00.0/numa_node\n",
      "Your kernel may have been built without NUMA support.\n",
      "2024-09-03 09:41:06.640682: I tensorflow/core/common_runtime/gpu/gpu_device.cc:2021] Created device /job:localhost/replica:0/task:0/device:GPU:0 with 7372 MB memory:  -> device: 0, name: NVIDIA GeForce RTX 3060, pci bus id: 0000:01:00.0, compute capability: 8.6\n"
     ]
    }
   ],
   "source": [
    "model = generator_model()"
   ]
  },
  {
   "cell_type": "code",
   "execution_count": 26,
   "id": "ff851cea-08bd-4720-a313-a4120098616e",
   "metadata": {},
   "outputs": [
    {
     "name": "stderr",
     "output_type": "stream",
     "text": [
      "/home/rahul/.local/lib/python3.10/site-packages/tensorflow/python/data/ops/structured_function.py:258: UserWarning: Even though the `tf.config.experimental_run_functions_eagerly` option is set, this option does not apply to tf.data functions. To force eager execution of tf.data functions, please use `tf.data.experimental.enable_debug_mode()`.\n",
      "  warnings.warn(\n"
     ]
    },
    {
     "name": "stdout",
     "output_type": "stream",
     "text": [
      "Epoch 1/25\n"
     ]
    },
    {
     "name": "stderr",
     "output_type": "stream",
     "text": [
      "2024-09-03 09:41:18.754617: I external/local_xla/xla/stream_executor/cuda/cuda_dnn.cc:531] Loaded cuDNN version 8907\n"
     ]
    },
    {
     "name": "stdout",
     "output_type": "stream",
     "text": [
      "\u001b[1m255/255\u001b[0m \u001b[32m━━━━━━━━━━━━━━━━━━━━\u001b[0m\u001b[37m\u001b[0m \u001b[1m21s\u001b[0m 55ms/step - accuracy: 0.0434 - loss: 7.3399\n",
      "Epoch 2/25\n",
      "\u001b[1m255/255\u001b[0m \u001b[32m━━━━━━━━━━━━━━━━━━━━\u001b[0m\u001b[37m\u001b[0m \u001b[1m14s\u001b[0m 55ms/step - accuracy: 0.1308 - loss: 5.6127\n",
      "Epoch 3/25\n",
      "\u001b[1m255/255\u001b[0m \u001b[32m━━━━━━━━━━━━━━━━━━━━\u001b[0m\u001b[37m\u001b[0m \u001b[1m14s\u001b[0m 55ms/step - accuracy: 0.2168 - loss: 4.6450\n",
      "Epoch 4/25\n",
      "\u001b[1m255/255\u001b[0m \u001b[32m━━━━━━━━━━━━━━━━━━━━\u001b[0m\u001b[37m\u001b[0m \u001b[1m14s\u001b[0m 55ms/step - accuracy: 0.2681 - loss: 3.9929\n",
      "Epoch 5/25\n",
      "\u001b[1m255/255\u001b[0m \u001b[32m━━━━━━━━━━━━━━━━━━━━\u001b[0m\u001b[37m\u001b[0m \u001b[1m14s\u001b[0m 56ms/step - accuracy: 0.3275 - loss: 3.3862\n",
      "Epoch 6/25\n",
      "\u001b[1m255/255\u001b[0m \u001b[32m━━━━━━━━━━━━━━━━━━━━\u001b[0m\u001b[37m\u001b[0m \u001b[1m16s\u001b[0m 64ms/step - accuracy: 0.3720 - loss: 2.9436\n",
      "Epoch 7/25\n",
      "\u001b[1m255/255\u001b[0m \u001b[32m━━━━━━━━━━━━━━━━━━━━\u001b[0m\u001b[37m\u001b[0m \u001b[1m15s\u001b[0m 58ms/step - accuracy: 0.4649 - loss: 2.4244\n",
      "Epoch 8/25\n",
      "\u001b[1m255/255\u001b[0m \u001b[32m━━━━━━━━━━━━━━━━━━━━\u001b[0m\u001b[37m\u001b[0m \u001b[1m14s\u001b[0m 56ms/step - accuracy: 0.5322 - loss: 2.0455\n",
      "Epoch 9/25\n",
      "\u001b[1m255/255\u001b[0m \u001b[32m━━━━━━━━━━━━━━━━━━━━\u001b[0m\u001b[37m\u001b[0m \u001b[1m14s\u001b[0m 55ms/step - accuracy: 0.5962 - loss: 1.7246\n",
      "Epoch 10/25\n",
      "\u001b[1m255/255\u001b[0m \u001b[32m━━━━━━━━━━━━━━━━━━━━\u001b[0m\u001b[37m\u001b[0m \u001b[1m14s\u001b[0m 56ms/step - accuracy: 0.6603 - loss: 1.4436\n",
      "Epoch 11/25\n",
      "\u001b[1m255/255\u001b[0m \u001b[32m━━━━━━━━━━━━━━━━━━━━\u001b[0m\u001b[37m\u001b[0m \u001b[1m14s\u001b[0m 57ms/step - accuracy: 0.7094 - loss: 1.2311\n",
      "Epoch 12/25\n",
      "\u001b[1m255/255\u001b[0m \u001b[32m━━━━━━━━━━━━━━━━━━━━\u001b[0m\u001b[37m\u001b[0m \u001b[1m14s\u001b[0m 54ms/step - accuracy: 0.7591 - loss: 1.0463\n",
      "Epoch 13/25\n",
      "\u001b[1m255/255\u001b[0m \u001b[32m━━━━━━━━━━━━━━━━━━━━\u001b[0m\u001b[37m\u001b[0m \u001b[1m15s\u001b[0m 59ms/step - accuracy: 0.7874 - loss: 0.9094\n",
      "Epoch 14/25\n",
      "\u001b[1m255/255\u001b[0m \u001b[32m━━━━━━━━━━━━━━━━━━━━\u001b[0m\u001b[37m\u001b[0m \u001b[1m14s\u001b[0m 55ms/step - accuracy: 0.8232 - loss: 0.7861\n",
      "Epoch 15/25\n",
      "\u001b[1m255/255\u001b[0m \u001b[32m━━━━━━━━━━━━━━━━━━━━\u001b[0m\u001b[37m\u001b[0m \u001b[1m15s\u001b[0m 57ms/step - accuracy: 0.8506 - loss: 0.6738\n",
      "Epoch 16/25\n",
      "\u001b[1m255/255\u001b[0m \u001b[32m━━━━━━━━━━━━━━━━━━━━\u001b[0m\u001b[37m\u001b[0m \u001b[1m15s\u001b[0m 58ms/step - accuracy: 0.8761 - loss: 0.5873\n",
      "Epoch 17/25\n",
      "\u001b[1m255/255\u001b[0m \u001b[32m━━━━━━━━━━━━━━━━━━━━\u001b[0m\u001b[37m\u001b[0m \u001b[1m16s\u001b[0m 61ms/step - accuracy: 0.8937 - loss: 0.5126\n",
      "Epoch 18/25\n",
      "\u001b[1m255/255\u001b[0m \u001b[32m━━━━━━━━━━━━━━━━━━━━\u001b[0m\u001b[37m\u001b[0m \u001b[1m14s\u001b[0m 56ms/step - accuracy: 0.9096 - loss: 0.4428\n",
      "Epoch 19/25\n",
      "\u001b[1m255/255\u001b[0m \u001b[32m━━━━━━━━━━━━━━━━━━━━\u001b[0m\u001b[37m\u001b[0m \u001b[1m14s\u001b[0m 56ms/step - accuracy: 0.9215 - loss: 0.3898\n",
      "Epoch 20/25\n",
      "\u001b[1m255/255\u001b[0m \u001b[32m━━━━━━━━━━━━━━━━━━━━\u001b[0m\u001b[37m\u001b[0m \u001b[1m14s\u001b[0m 55ms/step - accuracy: 0.9396 - loss: 0.3386\n",
      "Epoch 21/25\n",
      "\u001b[1m255/255\u001b[0m \u001b[32m━━━━━━━━━━━━━━━━━━━━\u001b[0m\u001b[37m\u001b[0m \u001b[1m14s\u001b[0m 55ms/step - accuracy: 0.9426 - loss: 0.3027\n",
      "Epoch 22/25\n",
      "\u001b[1m255/255\u001b[0m \u001b[32m━━━━━━━━━━━━━━━━━━━━\u001b[0m\u001b[37m\u001b[0m \u001b[1m14s\u001b[0m 56ms/step - accuracy: 0.9497 - loss: 0.2659\n",
      "Epoch 23/25\n",
      "\u001b[1m255/255\u001b[0m \u001b[32m━━━━━━━━━━━━━━━━━━━━\u001b[0m\u001b[37m\u001b[0m \u001b[1m15s\u001b[0m 57ms/step - accuracy: 0.9603 - loss: 0.2334\n",
      "Epoch 24/25\n",
      "\u001b[1m255/255\u001b[0m \u001b[32m━━━━━━━━━━━━━━━━━━━━\u001b[0m\u001b[37m\u001b[0m \u001b[1m15s\u001b[0m 59ms/step - accuracy: 0.9652 - loss: 0.2129\n",
      "Epoch 25/25\n",
      "\u001b[1m255/255\u001b[0m \u001b[32m━━━━━━━━━━━━━━━━━━━━\u001b[0m\u001b[37m\u001b[0m \u001b[1m15s\u001b[0m 59ms/step - accuracy: 0.9694 - loss: 0.1869\n"
     ]
    }
   ],
   "source": [
    "history = model.fit(features, labels, epochs = 25, batch_size=64)"
   ]
  },
  {
   "cell_type": "markdown",
   "id": "a4c4c23e-cf6d-48b5-9ba9-b573788dcf5f",
   "metadata": {},
   "source": [
    "#### Model Summary"
   ]
  },
  {
   "cell_type": "code",
   "execution_count": 27,
   "id": "d36d29db-1158-46c3-9a76-68208feeeebd",
   "metadata": {},
   "outputs": [
    {
     "data": {
      "text/html": [
       "<pre style=\"white-space:pre;overflow-x:auto;line-height:normal;font-family:Menlo,'DejaVu Sans Mono',consolas,'Courier New',monospace\"><span style=\"font-weight: bold\">Model: \"sequential\"</span>\n",
       "</pre>\n"
      ],
      "text/plain": [
       "\u001b[1mModel: \"sequential\"\u001b[0m\n"
      ]
     },
     "metadata": {},
     "output_type": "display_data"
    },
    {
     "data": {
      "text/html": [
       "<pre style=\"white-space:pre;overflow-x:auto;line-height:normal;font-family:Menlo,'DejaVu Sans Mono',consolas,'Courier New',monospace\">┏━━━━━━━━━━━━━━━━━━━━━━━━━━━━━━━━━┳━━━━━━━━━━━━━━━━━━━━━━━━┳━━━━━━━━━━━━━━━┓\n",
       "┃<span style=\"font-weight: bold\"> Layer (type)                    </span>┃<span style=\"font-weight: bold\"> Output Shape           </span>┃<span style=\"font-weight: bold\">       Param # </span>┃\n",
       "┡━━━━━━━━━━━━━━━━━━━━━━━━━━━━━━━━━╇━━━━━━━━━━━━━━━━━━━━━━━━╇━━━━━━━━━━━━━━━┩\n",
       "│ embedding (<span style=\"color: #0087ff; text-decoration-color: #0087ff\">Embedding</span>)           │ (<span style=\"color: #00af00; text-decoration-color: #00af00\">64</span>, <span style=\"color: #00af00; text-decoration-color: #00af00\">231</span>, <span style=\"color: #00af00; text-decoration-color: #00af00\">256</span>)         │     <span style=\"color: #00af00; text-decoration-color: #00af00\">1,828,864</span> │\n",
       "├─────────────────────────────────┼────────────────────────┼───────────────┤\n",
       "│ gru (<span style=\"color: #0087ff; text-decoration-color: #0087ff\">GRU</span>)                       │ (<span style=\"color: #00af00; text-decoration-color: #00af00\">64</span>, <span style=\"color: #00af00; text-decoration-color: #00af00\">126</span>)              │       <span style=\"color: #00af00; text-decoration-color: #00af00\">145,152</span> │\n",
       "├─────────────────────────────────┼────────────────────────┼───────────────┤\n",
       "│ dense (<span style=\"color: #0087ff; text-decoration-color: #0087ff\">Dense</span>)                   │ (<span style=\"color: #00af00; text-decoration-color: #00af00\">64</span>, <span style=\"color: #00af00; text-decoration-color: #00af00\">7144</span>)             │       <span style=\"color: #00af00; text-decoration-color: #00af00\">907,288</span> │\n",
       "└─────────────────────────────────┴────────────────────────┴───────────────┘\n",
       "</pre>\n"
      ],
      "text/plain": [
       "┏━━━━━━━━━━━━━━━━━━━━━━━━━━━━━━━━━┳━━━━━━━━━━━━━━━━━━━━━━━━┳━━━━━━━━━━━━━━━┓\n",
       "┃\u001b[1m \u001b[0m\u001b[1mLayer (type)                   \u001b[0m\u001b[1m \u001b[0m┃\u001b[1m \u001b[0m\u001b[1mOutput Shape          \u001b[0m\u001b[1m \u001b[0m┃\u001b[1m \u001b[0m\u001b[1m      Param #\u001b[0m\u001b[1m \u001b[0m┃\n",
       "┡━━━━━━━━━━━━━━━━━━━━━━━━━━━━━━━━━╇━━━━━━━━━━━━━━━━━━━━━━━━╇━━━━━━━━━━━━━━━┩\n",
       "│ embedding (\u001b[38;5;33mEmbedding\u001b[0m)           │ (\u001b[38;5;34m64\u001b[0m, \u001b[38;5;34m231\u001b[0m, \u001b[38;5;34m256\u001b[0m)         │     \u001b[38;5;34m1,828,864\u001b[0m │\n",
       "├─────────────────────────────────┼────────────────────────┼───────────────┤\n",
       "│ gru (\u001b[38;5;33mGRU\u001b[0m)                       │ (\u001b[38;5;34m64\u001b[0m, \u001b[38;5;34m126\u001b[0m)              │       \u001b[38;5;34m145,152\u001b[0m │\n",
       "├─────────────────────────────────┼────────────────────────┼───────────────┤\n",
       "│ dense (\u001b[38;5;33mDense\u001b[0m)                   │ (\u001b[38;5;34m64\u001b[0m, \u001b[38;5;34m7144\u001b[0m)             │       \u001b[38;5;34m907,288\u001b[0m │\n",
       "└─────────────────────────────────┴────────────────────────┴───────────────┘\n"
      ]
     },
     "metadata": {},
     "output_type": "display_data"
    },
    {
     "data": {
      "text/html": [
       "<pre style=\"white-space:pre;overflow-x:auto;line-height:normal;font-family:Menlo,'DejaVu Sans Mono',consolas,'Courier New',monospace\"><span style=\"font-weight: bold\"> Total params: </span><span style=\"color: #00af00; text-decoration-color: #00af00\">8,643,914</span> (32.97 MB)\n",
       "</pre>\n"
      ],
      "text/plain": [
       "\u001b[1m Total params: \u001b[0m\u001b[38;5;34m8,643,914\u001b[0m (32.97 MB)\n"
      ]
     },
     "metadata": {},
     "output_type": "display_data"
    },
    {
     "data": {
      "text/html": [
       "<pre style=\"white-space:pre;overflow-x:auto;line-height:normal;font-family:Menlo,'DejaVu Sans Mono',consolas,'Courier New',monospace\"><span style=\"font-weight: bold\"> Trainable params: </span><span style=\"color: #00af00; text-decoration-color: #00af00\">2,881,304</span> (10.99 MB)\n",
       "</pre>\n"
      ],
      "text/plain": [
       "\u001b[1m Trainable params: \u001b[0m\u001b[38;5;34m2,881,304\u001b[0m (10.99 MB)\n"
      ]
     },
     "metadata": {},
     "output_type": "display_data"
    },
    {
     "data": {
      "text/html": [
       "<pre style=\"white-space:pre;overflow-x:auto;line-height:normal;font-family:Menlo,'DejaVu Sans Mono',consolas,'Courier New',monospace\"><span style=\"font-weight: bold\"> Non-trainable params: </span><span style=\"color: #00af00; text-decoration-color: #00af00\">0</span> (0.00 B)\n",
       "</pre>\n"
      ],
      "text/plain": [
       "\u001b[1m Non-trainable params: \u001b[0m\u001b[38;5;34m0\u001b[0m (0.00 B)\n"
      ]
     },
     "metadata": {},
     "output_type": "display_data"
    },
    {
     "data": {
      "text/html": [
       "<pre style=\"white-space:pre;overflow-x:auto;line-height:normal;font-family:Menlo,'DejaVu Sans Mono',consolas,'Courier New',monospace\"><span style=\"font-weight: bold\"> Optimizer params: </span><span style=\"color: #00af00; text-decoration-color: #00af00\">5,762,610</span> (21.98 MB)\n",
       "</pre>\n"
      ],
      "text/plain": [
       "\u001b[1m Optimizer params: \u001b[0m\u001b[38;5;34m5,762,610\u001b[0m (21.98 MB)\n"
      ]
     },
     "metadata": {},
     "output_type": "display_data"
    }
   ],
   "source": [
    "model.summary()"
   ]
  },
  {
   "cell_type": "code",
   "execution_count": 28,
   "id": "2b6dc4f8-76c9-4df3-9ff5-8541b73386d5",
   "metadata": {},
   "outputs": [
    {
     "data": {
      "image/png": "[encoded data removed]",
      "text/plain": [
       "<IPython.core.display.Image object>"
      ]
     },
     "execution_count": 28,
     "metadata": {},
     "output_type": "execute_result"
    }
   ],
   "source": [
    "tf.keras.utils.plot_model(\n",
    "    model,\n",
    "    show_shapes=True,\n",
    "    show_layer_names=True,\n",
    ")"
   ]
  },
  {
   "cell_type": "code",
   "execution_count": 29,
   "id": "be99090e-e23e-47b0-9e16-af4714379017",
   "metadata": {},
   "outputs": [
    {
     "name": "stdout",
     "output_type": "stream",
     "text": [
      "Model Accuracy: 0.9656950235366821\n",
      "Loss: 0.20192410051822662\n"
     ]
    }
   ],
   "source": [
    "print(\"Model Accuracy:\", max(history.history['accuracy']))\n",
    "print(\"Loss:\", min(history.history['loss']))"
   ]
  },
  {
   "cell_type": "code",
   "execution_count": 30,
   "id": "f2bc48f9-df08-4d57-a06c-46f38e53ded9",
   "metadata": {},
   "outputs": [
    {
     "data": {
      "image/png": "[encoded data removed]",
      "text/plain": [
       "<Figure size 640x480 with 1 Axes>"
      ]
     },
     "metadata": {},
     "output_type": "display_data"
    }
   ],
   "source": [
    "plt.plot(history.history['accuracy'])\n",
    "plt.plot(history.history['loss'])\n",
    "plt.title('model accuracy and loss')\n",
    "plt.ylabel('accuracy and loss')\n",
    "plt.xlabel('epoch')\n",
    "plt.legend(['accuracy', 'loss'], loc='upper left')\n",
    "plt.show()"
   ]
  },
  {
   "cell_type": "markdown",
   "id": "f9be3822-bc6d-4cdc-82b4-ff8877c69e2c",
   "metadata": {},
   "source": [
    "# Model Testing"
   ]
  },
  {
   "cell_type": "code",
   "execution_count": 40,
   "id": "830f64af-3302-45ae-a0ef-12a18209639d",
   "metadata": {},
   "outputs": [],
   "source": [
    "def generate_text(seed_text):\n",
    "    for _ in range(max_seq_len):\n",
    "        token_list = tokenizer.texts_to_sequences([seed_text])[0]\n",
    "        token_list = pad_sequences([token_list], maxlen=max_seq_len-1, padding = \"pre\")\n",
    "        predicted = model.predict(token_list, verbose=0)\n",
    "        predicted = np.argmax(predicted, axis=-1)\n",
    "        \n",
    "        output_word = \"\"\n",
    "        for word, index in tokenizer.word_index.items():\n",
    "            if index == predicted:\n",
    "                if(word == \"~\"):\n",
    "                    return seed_text\n",
    "                output_word = word\n",
    "                break\n",
    "        seed_text += \" \"+output_word\n",
    "    return seed_text"
   ]
  },
  {
   "cell_type": "code",
   "execution_count": 49,
   "id": "10bbbbdc-fec5-47ad-b85e-293ad947cb73",
   "metadata": {},
   "outputs": [
    {
     "name": "stdout",
     "output_type": "stream",
     "text": [
      "Ingredients: hearts, mayonnaise, parmesan cheese\n",
      "\n",
      "Predicted Recipe:\n",
      "hearts, mayonnaise, parmesan cheese | artichoke dip | 2 cans or jars artichoke hearts, 1 c. mayonnaise, 1 c. parmesan cheese | drain artichokes and chop., mix with mayonnaise and parmesan cheese., after well mixed, bake, uncovered, for 20 to 30 minutes at 350u00b0., serve with crackers.\n"
     ]
    }
   ],
   "source": [
    "ing = \"hearts, mayonnaise, parmesan cheese\"\n",
    "print(\"Ingredients:\", ing)\n",
    "print(\"\\nPredicted Recipe:\")\n",
    "print(generate_text(ing))"
   ]
  },
  {
   "cell_type": "code",
   "execution_count": 42,
   "id": "c4ab839f-fa88-4589-91ba-39d6bf9d0a3c",
   "metadata": {},
   "outputs": [
    {
     "name": "stdout",
     "output_type": "stream",
     "text": [
      "Actual Data:\n",
      "salad supreme, italian dressing | summer spaghetti | 1 lb. very thin spaghetti, 1/2 bottle mccormick salad supreme (seasoning), 1 bottle zesty italian dressing | prepare spaghetti per package., drain., melt a little butter through it., marinate overnight in salad supreme and zesty italian dressing., just before serving, add cucumbers, tomatoes, green peppers, mushrooms, olives or whatever your taste may want. ~ \n",
      "\n",
      "Predicted Data:\n"
     ]
    },
    {
     "data": {
      "text/plain": [
       "'salad supreme, italian dressing | summer spaghetti | 1 lb. very thin spaghetti, 1/2 bottle mccormick salad supreme (seasoning), 1 bottle zesty italian dressing | prepare spaghetti per package., drain., melt a little butter through it., marinate overnight in salad supreme and zesty italian dressing., just before serving, add cucumbers, tomatoes, green peppers, mushrooms, olives or whatever your taste may want.'"
      ]
     },
     "execution_count": 42,
     "metadata": {},
     "output_type": "execute_result"
    }
   ],
   "source": [
    "print(\"Actual Data:\")\n",
    "print(finaldataset[37])\n",
    "print(\"\\nPredicted Data:\")\n",
    "generate_text(\"salad supreme, italian dressing\")"
   ]
  },
  {
   "cell_type": "markdown",
   "id": "b77e6ba6-0e56-4274-a261-70494532cfd8",
   "metadata": {},
   "source": [
    "# Saving the model and word index"
   ]
  },
  {
   "cell_type": "code",
   "execution_count": 45,
   "id": "e6771834-aae5-434a-8b44-7fec37752593",
   "metadata": {},
   "outputs": [],
   "source": [
    "model.save(\"Culinary-Companion-V0.1.keras\")\n",
    "with open('Culinary-Companion-word_index.pickle', 'wb') as handle:\n",
    "    dump(tokenizer, handle, protocol=pickle.HIGHEST_PROTOCOL)"
   ]
  },
  {
   "cell_type": "code",
   "execution_count": null,
   "id": "b93846ba-598c-4eaf-9f32-167240bf5c8b",
   "metadata": {},
   "outputs": [],
   "source": []
  }
 ],
 "metadata": {
  "kernelspec": {
   "display_name": "Python 3 (ipykernel)",
   "language": "python",
   "name": "python3"
  },
  "language_info": {
   "codemirror_mode": {
    "name": "ipython",
    "version": 3
   },
   "file_extension": ".py",
   "mimetype": "text/x-python",
   "name": "python",
   "nbconvert_exporter": "python",
   "pygments_lexer": "ipython3",
   "version": "3.10.12"
  }
 },
 "nbformat": 4,
 "nbformat_minor": 5
}
